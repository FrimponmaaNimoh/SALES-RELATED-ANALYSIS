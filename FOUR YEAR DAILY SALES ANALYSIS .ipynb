{
 "cells": [
  {
   "cell_type": "markdown",
   "metadata": {},
   "source": [
    "# ANALYSIS OF FOUR YEAR DAILY SALES RECORDS"
   ]
  },
  {
   "cell_type": "markdown",
   "metadata": {},
   "source": [
    "### TABLE_OF_CONTENT\n",
    "\n",
    "[Problem Statement](#Problem_Statement)\n",
    "\n",
    "[Column Description](#Column_Description)\n",
    "\n",
    "[Loading the dataset](#LOADING_THE_DATASET)\n",
    "\n",
    "[Data Inspection & Cleaning](#DATA_INSPECTION_&_CLEANING)\n",
    "\n",
    "[Duplicates Check](#CHECKING_FOR_DUPLICATES)\n",
    "\n",
    "[Creating New Columns](#CREATING_NEW_COLUMNS)\n",
    "\n",
    "[General Facts](#GENERAL_FACTS_FROM_OUR_DATASET)\n",
    "\n",
    "[Distribution of Sales and Profit](#CHECKING_DISTRIBUTION_OF_SALES_AND_PROFIT_COLUMNS)\n",
    "\n",
    "[Analysis of Dataset](#ANALYSIS_OF_DATASET)\n",
    "\n",
    "\n"
   ]
  },
  {
   "cell_type": "markdown",
   "metadata": {},
   "source": [
    "### Problem_Statement\n",
    "A multinational retail company decides to embark on a campaign called 'Operation Increase Sales and Profit' (OISP) which focuses on increasing the sales of the company and maximising profit.\n",
    "\n",
    "Before the management team of the company can take any actionable decision with regards to the campaign,they want to draw the necessary insight from their 'sitting data'.\n",
    "\n",
    "As their Data Analyst,you are presented with their four year daily sales records (superstore data.csv).\n",
    "\n",
    "Task\n",
    "* Analyse the given data and advise management on what to do to increase sales and profit as intended in the compaign.\n",
    "\n",
    "\n",
    "* Kindly outlay your analytical steps inline with CRISP-DM(Cross Industry Standard Process for Data Mining)steps, asking the nescessary questions and providing answers based on the data.\n",
    "\n",
    "\n",
    "* Management expects statistical summaries of the key variables considering the aim of the campaign, visualizations and a report on your findings and your advice."
   ]
  },
  {
   "cell_type": "markdown",
   "metadata": {},
   "source": [
    "### Column_Description\n",
    "\n",
    "Row ID => Unique ID for each row.\n",
    "\n",
    "Order ID => Unique Order ID for each Customer.\n",
    "\n",
    "Order Date => Order Date of the product.\n",
    "\n",
    "Ship Date => Shipping Date of the Product.\n",
    "\n",
    "Ship Mode=> Shipping Mode specified by the Customer.\n",
    "\n",
    "Customer ID => Unique ID to identify each Customer.\n",
    "\n",
    "Customer Name => Name of the Customer.\n",
    "\n",
    "Segment => The segment where the Customer belongs.\n",
    "\n",
    "Country => Country of residence of the Customer.\n",
    "\n",
    "City => City of residence of of the Customer.\n",
    "\n",
    "State => State of residence of the Customer.\n",
    "\n",
    "Postal Code => Postal Code of every Customer.\n",
    "\n",
    "Region => Region where the Customer belong.\n",
    "\n",
    "Product ID => Unique ID of the Product.\n",
    "\n",
    "Category => Category of the product ordered.\n",
    "\n",
    "Sub-Category => Sub-Category of the product ordered.\n",
    "\n",
    "Product Name => Name of the Product\n",
    "\n",
    "Sales => Sales of the Product.\n",
    "\n",
    "Quantity => Quantity of the Product.\n",
    "\n",
    "Discount => Discount provided.\n",
    "\n",
    "Profit => Profit/Loss incurred."
   ]
  },
  {
   "cell_type": "code",
   "execution_count": 1,
   "metadata": {},
   "outputs": [],
   "source": [
    "##Importing the necessary packages\n",
    "import pandas as pd\n",
    "import numpy as np\n",
    "import matplotlib.pyplot as plt\n",
    "import seaborn as sns\n",
    "import warnings\n",
    "import datetime as dt\n",
    "warnings.filterwarnings('ignore')\n",
    "\n",
    "%matplotlib inline\n",
    "pd.set_option('display.max_colwidth',None)\n",
    "pd.set_option('display.max_columns',None)\n",
    "pd.set_option('display.float_format', lambda x: '%.2f' % x)\n"
   ]
  },
  {
   "cell_type": "markdown",
   "metadata": {},
   "source": [
    "### LOADING_THE_DATASET"
   ]
  },
  {
   "cell_type": "code",
   "execution_count": 2,
   "metadata": {},
   "outputs": [
    {
     "data": {
      "text/html": [
       "<div>\n",
       "<style scoped>\n",
       "    .dataframe tbody tr th:only-of-type {\n",
       "        vertical-align: middle;\n",
       "    }\n",
       "\n",
       "    .dataframe tbody tr th {\n",
       "        vertical-align: top;\n",
       "    }\n",
       "\n",
       "    .dataframe thead th {\n",
       "        text-align: right;\n",
       "    }\n",
       "</style>\n",
       "<table border=\"1\" class=\"dataframe\">\n",
       "  <thead>\n",
       "    <tr style=\"text-align: right;\">\n",
       "      <th></th>\n",
       "      <th>Row ID</th>\n",
       "      <th>Order ID</th>\n",
       "      <th>Order Date</th>\n",
       "      <th>Ship Date</th>\n",
       "      <th>Ship Mode</th>\n",
       "      <th>Customer ID</th>\n",
       "      <th>Customer Name</th>\n",
       "      <th>Segment</th>\n",
       "      <th>City</th>\n",
       "      <th>State</th>\n",
       "      <th>Country</th>\n",
       "      <th>Postal Code</th>\n",
       "      <th>Market</th>\n",
       "      <th>Region</th>\n",
       "      <th>Product ID</th>\n",
       "      <th>Category</th>\n",
       "      <th>Sub-Category</th>\n",
       "      <th>Product Name</th>\n",
       "      <th>Sales</th>\n",
       "      <th>Quantity</th>\n",
       "      <th>Discount</th>\n",
       "      <th>Profit</th>\n",
       "      <th>Shipping Cost</th>\n",
       "      <th>Order Priority</th>\n",
       "    </tr>\n",
       "  </thead>\n",
       "  <tbody>\n",
       "    <tr>\n",
       "      <th>0</th>\n",
       "      <td>42433</td>\n",
       "      <td>AG-2011-2040</td>\n",
       "      <td>2011-01-01</td>\n",
       "      <td>2011-06-01</td>\n",
       "      <td>Standard Class</td>\n",
       "      <td>TB-11280</td>\n",
       "      <td>Toby Braunhardt</td>\n",
       "      <td>Consumer</td>\n",
       "      <td>Constantine</td>\n",
       "      <td>Constantine</td>\n",
       "      <td>Algeria</td>\n",
       "      <td>nan</td>\n",
       "      <td>Africa</td>\n",
       "      <td>Africa</td>\n",
       "      <td>OFF-TEN-10000025</td>\n",
       "      <td>Office Supplies</td>\n",
       "      <td>Storage</td>\n",
       "      <td>Tenex Lockers, Blue</td>\n",
       "      <td>408.30</td>\n",
       "      <td>2</td>\n",
       "      <td>0.00</td>\n",
       "      <td>106.14</td>\n",
       "      <td>35.46</td>\n",
       "      <td>Medium</td>\n",
       "    </tr>\n",
       "    <tr>\n",
       "      <th>1</th>\n",
       "      <td>22253</td>\n",
       "      <td>IN-2011-47883</td>\n",
       "      <td>2011-01-01</td>\n",
       "      <td>2011-08-01</td>\n",
       "      <td>Standard Class</td>\n",
       "      <td>JH-15985</td>\n",
       "      <td>Joseph Holt</td>\n",
       "      <td>Consumer</td>\n",
       "      <td>Wagga Wagga</td>\n",
       "      <td>New South Wales</td>\n",
       "      <td>Australia</td>\n",
       "      <td>nan</td>\n",
       "      <td>APAC</td>\n",
       "      <td>Oceania</td>\n",
       "      <td>OFF-SU-10000618</td>\n",
       "      <td>Office Supplies</td>\n",
       "      <td>Supplies</td>\n",
       "      <td>Acme Trimmer, High Speed</td>\n",
       "      <td>120.37</td>\n",
       "      <td>3</td>\n",
       "      <td>0.10</td>\n",
       "      <td>36.04</td>\n",
       "      <td>9.72</td>\n",
       "      <td>Medium</td>\n",
       "    </tr>\n",
       "    <tr>\n",
       "      <th>2</th>\n",
       "      <td>48883</td>\n",
       "      <td>HU-2011-1220</td>\n",
       "      <td>2011-01-01</td>\n",
       "      <td>2011-05-01</td>\n",
       "      <td>Second Class</td>\n",
       "      <td>AT-735</td>\n",
       "      <td>Annie Thurman</td>\n",
       "      <td>Consumer</td>\n",
       "      <td>Budapest</td>\n",
       "      <td>Budapest</td>\n",
       "      <td>Hungary</td>\n",
       "      <td>nan</td>\n",
       "      <td>EMEA</td>\n",
       "      <td>EMEA</td>\n",
       "      <td>OFF-TEN-10001585</td>\n",
       "      <td>Office Supplies</td>\n",
       "      <td>Storage</td>\n",
       "      <td>Tenex Box, Single Width</td>\n",
       "      <td>66.12</td>\n",
       "      <td>4</td>\n",
       "      <td>0.00</td>\n",
       "      <td>29.64</td>\n",
       "      <td>8.17</td>\n",
       "      <td>High</td>\n",
       "    </tr>\n",
       "    <tr>\n",
       "      <th>3</th>\n",
       "      <td>11731</td>\n",
       "      <td>IT-2011-3647632</td>\n",
       "      <td>2011-01-01</td>\n",
       "      <td>2011-05-01</td>\n",
       "      <td>Second Class</td>\n",
       "      <td>EM-14140</td>\n",
       "      <td>Eugene Moren</td>\n",
       "      <td>Home Office</td>\n",
       "      <td>Stockholm</td>\n",
       "      <td>Stockholm</td>\n",
       "      <td>Sweden</td>\n",
       "      <td>nan</td>\n",
       "      <td>EU</td>\n",
       "      <td>North</td>\n",
       "      <td>OFF-PA-10001492</td>\n",
       "      <td>Office Supplies</td>\n",
       "      <td>Paper</td>\n",
       "      <td>Enermax Note Cards, Premium</td>\n",
       "      <td>44.87</td>\n",
       "      <td>3</td>\n",
       "      <td>0.50</td>\n",
       "      <td>-26.05</td>\n",
       "      <td>4.82</td>\n",
       "      <td>High</td>\n",
       "    </tr>\n",
       "    <tr>\n",
       "      <th>4</th>\n",
       "      <td>22255</td>\n",
       "      <td>IN-2011-47883</td>\n",
       "      <td>2011-01-01</td>\n",
       "      <td>2011-08-01</td>\n",
       "      <td>Standard Class</td>\n",
       "      <td>JH-15985</td>\n",
       "      <td>Joseph Holt</td>\n",
       "      <td>Consumer</td>\n",
       "      <td>Wagga Wagga</td>\n",
       "      <td>New South Wales</td>\n",
       "      <td>Australia</td>\n",
       "      <td>nan</td>\n",
       "      <td>APAC</td>\n",
       "      <td>Oceania</td>\n",
       "      <td>FUR-FU-10003447</td>\n",
       "      <td>Furniture</td>\n",
       "      <td>Furnishings</td>\n",
       "      <td>Eldon Light Bulb, Duo Pack</td>\n",
       "      <td>113.67</td>\n",
       "      <td>5</td>\n",
       "      <td>0.10</td>\n",
       "      <td>37.77</td>\n",
       "      <td>4.70</td>\n",
       "      <td>Medium</td>\n",
       "    </tr>\n",
       "  </tbody>\n",
       "</table>\n",
       "</div>"
      ],
      "text/plain": [
       "   Row ID         Order ID Order Date  Ship Date       Ship Mode Customer ID  \\\n",
       "0   42433     AG-2011-2040 2011-01-01 2011-06-01  Standard Class    TB-11280   \n",
       "1   22253    IN-2011-47883 2011-01-01 2011-08-01  Standard Class    JH-15985   \n",
       "2   48883     HU-2011-1220 2011-01-01 2011-05-01    Second Class      AT-735   \n",
       "3   11731  IT-2011-3647632 2011-01-01 2011-05-01    Second Class    EM-14140   \n",
       "4   22255    IN-2011-47883 2011-01-01 2011-08-01  Standard Class    JH-15985   \n",
       "\n",
       "     Customer Name      Segment         City            State    Country  \\\n",
       "0  Toby Braunhardt     Consumer  Constantine      Constantine    Algeria   \n",
       "1      Joseph Holt     Consumer  Wagga Wagga  New South Wales  Australia   \n",
       "2    Annie Thurman     Consumer     Budapest         Budapest    Hungary   \n",
       "3     Eugene Moren  Home Office    Stockholm        Stockholm     Sweden   \n",
       "4      Joseph Holt     Consumer  Wagga Wagga  New South Wales  Australia   \n",
       "\n",
       "   Postal Code  Market   Region        Product ID         Category  \\\n",
       "0          nan  Africa   Africa  OFF-TEN-10000025  Office Supplies   \n",
       "1          nan    APAC  Oceania   OFF-SU-10000618  Office Supplies   \n",
       "2          nan    EMEA     EMEA  OFF-TEN-10001585  Office Supplies   \n",
       "3          nan      EU    North   OFF-PA-10001492  Office Supplies   \n",
       "4          nan    APAC  Oceania   FUR-FU-10003447        Furniture   \n",
       "\n",
       "  Sub-Category                 Product Name  Sales  Quantity  Discount  \\\n",
       "0      Storage          Tenex Lockers, Blue 408.30         2      0.00   \n",
       "1     Supplies     Acme Trimmer, High Speed 120.37         3      0.10   \n",
       "2      Storage      Tenex Box, Single Width  66.12         4      0.00   \n",
       "3        Paper  Enermax Note Cards, Premium  44.87         3      0.50   \n",
       "4  Furnishings   Eldon Light Bulb, Duo Pack 113.67         5      0.10   \n",
       "\n",
       "   Profit  Shipping Cost Order Priority  \n",
       "0  106.14          35.46         Medium  \n",
       "1   36.04           9.72         Medium  \n",
       "2   29.64           8.17           High  \n",
       "3  -26.05           4.82           High  \n",
       "4   37.77           4.70         Medium  "
      ]
     },
     "execution_count": 2,
     "metadata": {},
     "output_type": "execute_result"
    }
   ],
   "source": [
    "data = pd.read_csv('superstore data.csv',parse_dates = ['Order Date','Ship Date'],encoding = 'latin1')\n",
    "data.head(5)"
   ]
  },
  {
   "cell_type": "code",
   "execution_count": 3,
   "metadata": {},
   "outputs": [
    {
     "data": {
      "text/html": [
       "<div>\n",
       "<style scoped>\n",
       "    .dataframe tbody tr th:only-of-type {\n",
       "        vertical-align: middle;\n",
       "    }\n",
       "\n",
       "    .dataframe tbody tr th {\n",
       "        vertical-align: top;\n",
       "    }\n",
       "\n",
       "    .dataframe thead th {\n",
       "        text-align: right;\n",
       "    }\n",
       "</style>\n",
       "<table border=\"1\" class=\"dataframe\">\n",
       "  <thead>\n",
       "    <tr style=\"text-align: right;\">\n",
       "      <th></th>\n",
       "      <th>Row ID</th>\n",
       "      <th>Order ID</th>\n",
       "      <th>Order Date</th>\n",
       "      <th>Ship Date</th>\n",
       "      <th>Ship Mode</th>\n",
       "      <th>Customer ID</th>\n",
       "      <th>Customer Name</th>\n",
       "      <th>Segment</th>\n",
       "      <th>City</th>\n",
       "      <th>State</th>\n",
       "      <th>Country</th>\n",
       "      <th>Postal Code</th>\n",
       "      <th>Market</th>\n",
       "      <th>Region</th>\n",
       "      <th>Product ID</th>\n",
       "      <th>Category</th>\n",
       "      <th>Sub-Category</th>\n",
       "      <th>Product Name</th>\n",
       "      <th>Sales</th>\n",
       "      <th>Quantity</th>\n",
       "      <th>Discount</th>\n",
       "      <th>Profit</th>\n",
       "      <th>Shipping Cost</th>\n",
       "      <th>Order Priority</th>\n",
       "    </tr>\n",
       "  </thead>\n",
       "  <tbody>\n",
       "    <tr>\n",
       "      <th>51285</th>\n",
       "      <td>32593</td>\n",
       "      <td>CA-2014-115427</td>\n",
       "      <td>2014-12-31</td>\n",
       "      <td>2015-04-01</td>\n",
       "      <td>Standard Class</td>\n",
       "      <td>EB-13975</td>\n",
       "      <td>Erica Bern</td>\n",
       "      <td>Corporate</td>\n",
       "      <td>Fairfield</td>\n",
       "      <td>California</td>\n",
       "      <td>United States</td>\n",
       "      <td>94533.00</td>\n",
       "      <td>US</td>\n",
       "      <td>West</td>\n",
       "      <td>OFF-BI-10002103</td>\n",
       "      <td>Office Supplies</td>\n",
       "      <td>Binders</td>\n",
       "      <td>Cardinal Slant-D Ring Binder, Heavy Gauge Vinyl</td>\n",
       "      <td>13.90</td>\n",
       "      <td>2</td>\n",
       "      <td>0.20</td>\n",
       "      <td>4.52</td>\n",
       "      <td>0.89</td>\n",
       "      <td>Medium</td>\n",
       "    </tr>\n",
       "    <tr>\n",
       "      <th>51286</th>\n",
       "      <td>47594</td>\n",
       "      <td>MO-2014-2560</td>\n",
       "      <td>2014-12-31</td>\n",
       "      <td>2015-05-01</td>\n",
       "      <td>Standard Class</td>\n",
       "      <td>LP-7095</td>\n",
       "      <td>Liz Preis</td>\n",
       "      <td>Consumer</td>\n",
       "      <td>Agadir</td>\n",
       "      <td>Souss-Massa-Draâ</td>\n",
       "      <td>Morocco</td>\n",
       "      <td>nan</td>\n",
       "      <td>Africa</td>\n",
       "      <td>Africa</td>\n",
       "      <td>OFF-WIL-10001069</td>\n",
       "      <td>Office Supplies</td>\n",
       "      <td>Binders</td>\n",
       "      <td>Wilson Jones Hole Reinforcements, Clear</td>\n",
       "      <td>3.99</td>\n",
       "      <td>1</td>\n",
       "      <td>0.00</td>\n",
       "      <td>0.42</td>\n",
       "      <td>0.49</td>\n",
       "      <td>Medium</td>\n",
       "    </tr>\n",
       "    <tr>\n",
       "      <th>51287</th>\n",
       "      <td>8857</td>\n",
       "      <td>MX-2014-110527</td>\n",
       "      <td>2014-12-31</td>\n",
       "      <td>2015-02-01</td>\n",
       "      <td>Second Class</td>\n",
       "      <td>CM-12190</td>\n",
       "      <td>Charlotte Melton</td>\n",
       "      <td>Consumer</td>\n",
       "      <td>Managua</td>\n",
       "      <td>Managua</td>\n",
       "      <td>Nicaragua</td>\n",
       "      <td>nan</td>\n",
       "      <td>LATAM</td>\n",
       "      <td>Central</td>\n",
       "      <td>OFF-LA-10004182</td>\n",
       "      <td>Office Supplies</td>\n",
       "      <td>Labels</td>\n",
       "      <td>Hon Color Coded Labels, 5000 Label Set</td>\n",
       "      <td>26.40</td>\n",
       "      <td>3</td>\n",
       "      <td>0.00</td>\n",
       "      <td>12.36</td>\n",
       "      <td>0.35</td>\n",
       "      <td>Medium</td>\n",
       "    </tr>\n",
       "    <tr>\n",
       "      <th>51288</th>\n",
       "      <td>6852</td>\n",
       "      <td>MX-2014-114783</td>\n",
       "      <td>2014-12-31</td>\n",
       "      <td>2015-06-01</td>\n",
       "      <td>Standard Class</td>\n",
       "      <td>TD-20995</td>\n",
       "      <td>Tamara Dahlen</td>\n",
       "      <td>Consumer</td>\n",
       "      <td>Juárez</td>\n",
       "      <td>Chihuahua</td>\n",
       "      <td>Mexico</td>\n",
       "      <td>nan</td>\n",
       "      <td>LATAM</td>\n",
       "      <td>North</td>\n",
       "      <td>OFF-LA-10000413</td>\n",
       "      <td>Office Supplies</td>\n",
       "      <td>Labels</td>\n",
       "      <td>Hon Legal Exhibit Labels, Alphabetical</td>\n",
       "      <td>7.12</td>\n",
       "      <td>1</td>\n",
       "      <td>0.00</td>\n",
       "      <td>0.56</td>\n",
       "      <td>0.20</td>\n",
       "      <td>Medium</td>\n",
       "    </tr>\n",
       "    <tr>\n",
       "      <th>51289</th>\n",
       "      <td>36388</td>\n",
       "      <td>CA-2014-156720</td>\n",
       "      <td>2014-12-31</td>\n",
       "      <td>2015-04-01</td>\n",
       "      <td>Standard Class</td>\n",
       "      <td>JM-15580</td>\n",
       "      <td>Jill Matthias</td>\n",
       "      <td>Consumer</td>\n",
       "      <td>Loveland</td>\n",
       "      <td>Colorado</td>\n",
       "      <td>United States</td>\n",
       "      <td>80538.00</td>\n",
       "      <td>US</td>\n",
       "      <td>West</td>\n",
       "      <td>OFF-FA-10003472</td>\n",
       "      <td>Office Supplies</td>\n",
       "      <td>Fasteners</td>\n",
       "      <td>Bagged Rubber Bands</td>\n",
       "      <td>3.02</td>\n",
       "      <td>3</td>\n",
       "      <td>0.20</td>\n",
       "      <td>-0.60</td>\n",
       "      <td>0.17</td>\n",
       "      <td>Medium</td>\n",
       "    </tr>\n",
       "  </tbody>\n",
       "</table>\n",
       "</div>"
      ],
      "text/plain": [
       "       Row ID        Order ID Order Date  Ship Date       Ship Mode  \\\n",
       "51285   32593  CA-2014-115427 2014-12-31 2015-04-01  Standard Class   \n",
       "51286   47594    MO-2014-2560 2014-12-31 2015-05-01  Standard Class   \n",
       "51287    8857  MX-2014-110527 2014-12-31 2015-02-01    Second Class   \n",
       "51288    6852  MX-2014-114783 2014-12-31 2015-06-01  Standard Class   \n",
       "51289   36388  CA-2014-156720 2014-12-31 2015-04-01  Standard Class   \n",
       "\n",
       "      Customer ID     Customer Name    Segment       City             State  \\\n",
       "51285    EB-13975        Erica Bern  Corporate  Fairfield        California   \n",
       "51286     LP-7095         Liz Preis   Consumer     Agadir  Souss-Massa-Draâ   \n",
       "51287    CM-12190  Charlotte Melton   Consumer    Managua           Managua   \n",
       "51288    TD-20995     Tamara Dahlen   Consumer     Juárez         Chihuahua   \n",
       "51289    JM-15580     Jill Matthias   Consumer   Loveland          Colorado   \n",
       "\n",
       "             Country  Postal Code  Market   Region        Product ID  \\\n",
       "51285  United States     94533.00      US     West   OFF-BI-10002103   \n",
       "51286        Morocco          nan  Africa   Africa  OFF-WIL-10001069   \n",
       "51287      Nicaragua          nan   LATAM  Central   OFF-LA-10004182   \n",
       "51288         Mexico          nan   LATAM    North   OFF-LA-10000413   \n",
       "51289  United States     80538.00      US     West   OFF-FA-10003472   \n",
       "\n",
       "              Category Sub-Category  \\\n",
       "51285  Office Supplies      Binders   \n",
       "51286  Office Supplies      Binders   \n",
       "51287  Office Supplies       Labels   \n",
       "51288  Office Supplies       Labels   \n",
       "51289  Office Supplies    Fasteners   \n",
       "\n",
       "                                          Product Name  Sales  Quantity  \\\n",
       "51285  Cardinal Slant-D Ring Binder, Heavy Gauge Vinyl  13.90         2   \n",
       "51286          Wilson Jones Hole Reinforcements, Clear   3.99         1   \n",
       "51287           Hon Color Coded Labels, 5000 Label Set  26.40         3   \n",
       "51288           Hon Legal Exhibit Labels, Alphabetical   7.12         1   \n",
       "51289                              Bagged Rubber Bands   3.02         3   \n",
       "\n",
       "       Discount  Profit  Shipping Cost Order Priority  \n",
       "51285      0.20    4.52           0.89         Medium  \n",
       "51286      0.00    0.42           0.49         Medium  \n",
       "51287      0.00   12.36           0.35         Medium  \n",
       "51288      0.00    0.56           0.20         Medium  \n",
       "51289      0.20   -0.60           0.17         Medium  "
      ]
     },
     "execution_count": 3,
     "metadata": {},
     "output_type": "execute_result"
    }
   ],
   "source": [
    "data.tail(5)"
   ]
  },
  {
   "cell_type": "markdown",
   "metadata": {},
   "source": [
    "# DATA_INSPECTION_&_CLEANING"
   ]
  },
  {
   "cell_type": "markdown",
   "metadata": {},
   "source": [
    "### CHECKING FOR NULL VALUES  AND DATA TYPES "
   ]
  },
  {
   "cell_type": "code",
   "execution_count": 4,
   "metadata": {
    "scrolled": false
   },
   "outputs": [
    {
     "name": "stdout",
     "output_type": "stream",
     "text": [
      "<class 'pandas.core.frame.DataFrame'>\n",
      "RangeIndex: 51290 entries, 0 to 51289\n",
      "Data columns (total 24 columns):\n",
      " #   Column          Non-Null Count  Dtype         \n",
      "---  ------          --------------  -----         \n",
      " 0   Row ID          51290 non-null  int64         \n",
      " 1   Order ID        51290 non-null  object        \n",
      " 2   Order Date      51290 non-null  datetime64[ns]\n",
      " 3   Ship Date       51290 non-null  datetime64[ns]\n",
      " 4   Ship Mode       51290 non-null  object        \n",
      " 5   Customer ID     51290 non-null  object        \n",
      " 6   Customer Name   51290 non-null  object        \n",
      " 7   Segment         51290 non-null  object        \n",
      " 8   City            51290 non-null  object        \n",
      " 9   State           51290 non-null  object        \n",
      " 10  Country         51290 non-null  object        \n",
      " 11  Postal Code     9994 non-null   float64       \n",
      " 12  Market          51290 non-null  object        \n",
      " 13  Region          51290 non-null  object        \n",
      " 14  Product ID      51290 non-null  object        \n",
      " 15  Category        51290 non-null  object        \n",
      " 16  Sub-Category    51290 non-null  object        \n",
      " 17  Product Name    51290 non-null  object        \n",
      " 18  Sales           51290 non-null  float64       \n",
      " 19  Quantity        51290 non-null  int64         \n",
      " 20  Discount        51290 non-null  float64       \n",
      " 21  Profit          51290 non-null  float64       \n",
      " 22  Shipping Cost   51290 non-null  float64       \n",
      " 23  Order Priority  51290 non-null  object        \n",
      "dtypes: datetime64[ns](2), float64(5), int64(2), object(15)\n",
      "memory usage: 9.4+ MB\n"
     ]
    }
   ],
   "source": [
    "data.info()"
   ]
  },
  {
   "cell_type": "code",
   "execution_count": 5,
   "metadata": {},
   "outputs": [
    {
     "data": {
      "text/plain": [
       "Row ID            0.00\n",
       "Order ID          0.00\n",
       "Order Date        0.00\n",
       "Ship Date         0.00\n",
       "Ship Mode         0.00\n",
       "Customer ID       0.00\n",
       "Customer Name     0.00\n",
       "Segment           0.00\n",
       "City              0.00\n",
       "State             0.00\n",
       "Country           0.00\n",
       "Postal Code      80.51\n",
       "Market            0.00\n",
       "Region            0.00\n",
       "Product ID        0.00\n",
       "Category          0.00\n",
       "Sub-Category      0.00\n",
       "Product Name      0.00\n",
       "Sales             0.00\n",
       "Quantity          0.00\n",
       "Discount          0.00\n",
       "Profit            0.00\n",
       "Shipping Cost     0.00\n",
       "Order Priority    0.00\n",
       "dtype: float64"
      ]
     },
     "execution_count": 5,
     "metadata": {},
     "output_type": "execute_result"
    }
   ],
   "source": [
    "#Proofng the presence of null values in the Postal code column\n",
    "(data.isnull().sum()/data.shape[0])*100"
   ]
  },
  {
   "cell_type": "markdown",
   "metadata": {},
   "source": [
    "###### Observations\n",
    "\n",
    "* There are **24 columns and 51290 rows**\n",
    "\n",
    "\n",
    "* The Postal code column **contains null values (about 80% of its data is missing)**.This column doesnt affect our analysis directly as there are other helpful location columns. This column would be dropped\n",
    "\n",
    "\n",
    "* All columns have been assigned the right Data type"
   ]
  },
  {
   "cell_type": "markdown",
   "metadata": {},
   "source": [
    "### CONFIRMING OTHER COLUMNS THAT COULD BE DROPPED"
   ]
  },
  {
   "cell_type": "code",
   "execution_count": 6,
   "metadata": {},
   "outputs": [
    {
     "data": {
      "text/plain": [
       "True"
      ]
     },
     "execution_count": 6,
     "metadata": {},
     "output_type": "execute_result"
    }
   ],
   "source": [
    "#Confirming if the row_id is unique. \n",
    "data[\"Row ID\"].is_unique"
   ]
  },
  {
   "cell_type": "code",
   "execution_count": 7,
   "metadata": {
    "scrolled": false
   },
   "outputs": [
    {
     "data": {
      "text/plain": [
       "False"
      ]
     },
     "execution_count": 7,
     "metadata": {},
     "output_type": "execute_result"
    }
   ],
   "source": [
    "#Confirming if the Order_id is unique\n",
    "data[\"Order ID\"].is_unique"
   ]
  },
  {
   "cell_type": "code",
   "execution_count": 8,
   "metadata": {},
   "outputs": [
    {
     "data": {
      "text/plain": [
       "0       AG-2011-2040\n",
       "1      IN-2011-47883\n",
       "2       HU-2011-1220\n",
       "3    IT-2011-3647632\n",
       "4      IN-2011-47883\n",
       "Name: Order ID, dtype: object"
      ]
     },
     "execution_count": 8,
     "metadata": {},
     "output_type": "execute_result"
    }
   ],
   "source": [
    "data[\"Order ID\"].head()"
   ]
  },
  {
   "cell_type": "code",
   "execution_count": 9,
   "metadata": {},
   "outputs": [
    {
     "data": {
      "text/html": [
       "<div>\n",
       "<style scoped>\n",
       "    .dataframe tbody tr th:only-of-type {\n",
       "        vertical-align: middle;\n",
       "    }\n",
       "\n",
       "    .dataframe tbody tr th {\n",
       "        vertical-align: top;\n",
       "    }\n",
       "\n",
       "    .dataframe thead th {\n",
       "        text-align: right;\n",
       "    }\n",
       "</style>\n",
       "<table border=\"1\" class=\"dataframe\">\n",
       "  <thead>\n",
       "    <tr style=\"text-align: right;\">\n",
       "      <th></th>\n",
       "      <th>Row ID</th>\n",
       "      <th>Order ID</th>\n",
       "      <th>Order Date</th>\n",
       "      <th>Ship Date</th>\n",
       "      <th>Ship Mode</th>\n",
       "      <th>Customer ID</th>\n",
       "      <th>Customer Name</th>\n",
       "      <th>Segment</th>\n",
       "      <th>City</th>\n",
       "      <th>State</th>\n",
       "      <th>Country</th>\n",
       "      <th>Postal Code</th>\n",
       "      <th>Market</th>\n",
       "      <th>Region</th>\n",
       "      <th>Product ID</th>\n",
       "      <th>Category</th>\n",
       "      <th>Sub-Category</th>\n",
       "      <th>Product Name</th>\n",
       "      <th>Sales</th>\n",
       "      <th>Quantity</th>\n",
       "      <th>Discount</th>\n",
       "      <th>Profit</th>\n",
       "      <th>Shipping Cost</th>\n",
       "      <th>Order Priority</th>\n",
       "    </tr>\n",
       "  </thead>\n",
       "  <tbody>\n",
       "    <tr>\n",
       "      <th>1</th>\n",
       "      <td>22253</td>\n",
       "      <td>IN-2011-47883</td>\n",
       "      <td>2011-01-01</td>\n",
       "      <td>2011-08-01</td>\n",
       "      <td>Standard Class</td>\n",
       "      <td>JH-15985</td>\n",
       "      <td>Joseph Holt</td>\n",
       "      <td>Consumer</td>\n",
       "      <td>Wagga Wagga</td>\n",
       "      <td>New South Wales</td>\n",
       "      <td>Australia</td>\n",
       "      <td>nan</td>\n",
       "      <td>APAC</td>\n",
       "      <td>Oceania</td>\n",
       "      <td>OFF-SU-10000618</td>\n",
       "      <td>Office Supplies</td>\n",
       "      <td>Supplies</td>\n",
       "      <td>Acme Trimmer, High Speed</td>\n",
       "      <td>120.37</td>\n",
       "      <td>3</td>\n",
       "      <td>0.10</td>\n",
       "      <td>36.04</td>\n",
       "      <td>9.72</td>\n",
       "      <td>Medium</td>\n",
       "    </tr>\n",
       "    <tr>\n",
       "      <th>4</th>\n",
       "      <td>22255</td>\n",
       "      <td>IN-2011-47883</td>\n",
       "      <td>2011-01-01</td>\n",
       "      <td>2011-08-01</td>\n",
       "      <td>Standard Class</td>\n",
       "      <td>JH-15985</td>\n",
       "      <td>Joseph Holt</td>\n",
       "      <td>Consumer</td>\n",
       "      <td>Wagga Wagga</td>\n",
       "      <td>New South Wales</td>\n",
       "      <td>Australia</td>\n",
       "      <td>nan</td>\n",
       "      <td>APAC</td>\n",
       "      <td>Oceania</td>\n",
       "      <td>FUR-FU-10003447</td>\n",
       "      <td>Furniture</td>\n",
       "      <td>Furnishings</td>\n",
       "      <td>Eldon Light Bulb, Duo Pack</td>\n",
       "      <td>113.67</td>\n",
       "      <td>5</td>\n",
       "      <td>0.10</td>\n",
       "      <td>37.77</td>\n",
       "      <td>4.70</td>\n",
       "      <td>Medium</td>\n",
       "    </tr>\n",
       "    <tr>\n",
       "      <th>5</th>\n",
       "      <td>22254</td>\n",
       "      <td>IN-2011-47883</td>\n",
       "      <td>2011-01-01</td>\n",
       "      <td>2011-08-01</td>\n",
       "      <td>Standard Class</td>\n",
       "      <td>JH-15985</td>\n",
       "      <td>Joseph Holt</td>\n",
       "      <td>Consumer</td>\n",
       "      <td>Wagga Wagga</td>\n",
       "      <td>New South Wales</td>\n",
       "      <td>Australia</td>\n",
       "      <td>nan</td>\n",
       "      <td>APAC</td>\n",
       "      <td>Oceania</td>\n",
       "      <td>OFF-PA-10001968</td>\n",
       "      <td>Office Supplies</td>\n",
       "      <td>Paper</td>\n",
       "      <td>Eaton Computer Printout Paper, 8.5 x 11</td>\n",
       "      <td>55.24</td>\n",
       "      <td>2</td>\n",
       "      <td>0.10</td>\n",
       "      <td>15.34</td>\n",
       "      <td>1.80</td>\n",
       "      <td>Medium</td>\n",
       "    </tr>\n",
       "  </tbody>\n",
       "</table>\n",
       "</div>"
      ],
      "text/plain": [
       "   Row ID       Order ID Order Date  Ship Date       Ship Mode Customer ID  \\\n",
       "1   22253  IN-2011-47883 2011-01-01 2011-08-01  Standard Class    JH-15985   \n",
       "4   22255  IN-2011-47883 2011-01-01 2011-08-01  Standard Class    JH-15985   \n",
       "5   22254  IN-2011-47883 2011-01-01 2011-08-01  Standard Class    JH-15985   \n",
       "\n",
       "  Customer Name   Segment         City            State    Country  \\\n",
       "1   Joseph Holt  Consumer  Wagga Wagga  New South Wales  Australia   \n",
       "4   Joseph Holt  Consumer  Wagga Wagga  New South Wales  Australia   \n",
       "5   Joseph Holt  Consumer  Wagga Wagga  New South Wales  Australia   \n",
       "\n",
       "   Postal Code Market   Region       Product ID         Category Sub-Category  \\\n",
       "1          nan   APAC  Oceania  OFF-SU-10000618  Office Supplies     Supplies   \n",
       "4          nan   APAC  Oceania  FUR-FU-10003447        Furniture  Furnishings   \n",
       "5          nan   APAC  Oceania  OFF-PA-10001968  Office Supplies        Paper   \n",
       "\n",
       "                              Product Name  Sales  Quantity  Discount  Profit  \\\n",
       "1                 Acme Trimmer, High Speed 120.37         3      0.10   36.04   \n",
       "4               Eldon Light Bulb, Duo Pack 113.67         5      0.10   37.77   \n",
       "5  Eaton Computer Printout Paper, 8.5 x 11  55.24         2      0.10   15.34   \n",
       "\n",
       "   Shipping Cost Order Priority  \n",
       "1           9.72         Medium  \n",
       "4           4.70         Medium  \n",
       "5           1.80         Medium  "
      ]
     },
     "execution_count": 9,
     "metadata": {},
     "output_type": "execute_result"
    }
   ],
   "source": [
    "# prove that Order ID column isnt unique.But has repeatitions of Order IDs within the columns\n",
    "\n",
    "data[data[\"Order ID\"]== \"IN-2011-47883\"]"
   ]
  },
  {
   "cell_type": "markdown",
   "metadata": {},
   "source": [
    "###### Observations\n",
    "* The Row Id has been used as a unique identifier to indentify each row.However since this column performs the same function as the index. it can be dropped\n",
    "\n",
    "* The Order ID column is not unique because once several products are bought for a particular Order id, Our dataset reconginzes the purchase of each product as a row but associates it to the same Order Id."
   ]
  },
  {
   "cell_type": "markdown",
   "metadata": {},
   "source": [
    "### DROPPING COLUMNS"
   ]
  },
  {
   "cell_type": "code",
   "execution_count": 10,
   "metadata": {},
   "outputs": [
    {
     "name": "stdout",
     "output_type": "stream",
     "text": [
      "number of columns before dropping 24\n",
      "number of columns after dropping 22\n"
     ]
    }
   ],
   "source": [
    "\n",
    "print(f\"number of columns before dropping {data.shape[1]}\")\n",
    "data.drop([\"Row ID\",\"Postal Code\"],axis=1,inplace=True)\n",
    "print(f\"number of columns after dropping {data.shape[1]}\")\n"
   ]
  },
  {
   "cell_type": "markdown",
   "metadata": {},
   "source": [
    "# CHECKING_FOR_DUPLICATES"
   ]
  },
  {
   "cell_type": "markdown",
   "metadata": {},
   "source": [
    "### 1) Checking duplicates: for rows with the same data value across all the columns"
   ]
  },
  {
   "cell_type": "code",
   "execution_count": 11,
   "metadata": {},
   "outputs": [
    {
     "data": {
      "text/html": [
       "<div>\n",
       "<style scoped>\n",
       "    .dataframe tbody tr th:only-of-type {\n",
       "        vertical-align: middle;\n",
       "    }\n",
       "\n",
       "    .dataframe tbody tr th {\n",
       "        vertical-align: top;\n",
       "    }\n",
       "\n",
       "    .dataframe thead th {\n",
       "        text-align: right;\n",
       "    }\n",
       "</style>\n",
       "<table border=\"1\" class=\"dataframe\">\n",
       "  <thead>\n",
       "    <tr style=\"text-align: right;\">\n",
       "      <th></th>\n",
       "      <th>Order ID</th>\n",
       "      <th>Order Date</th>\n",
       "      <th>Ship Date</th>\n",
       "      <th>Ship Mode</th>\n",
       "      <th>Customer ID</th>\n",
       "      <th>Customer Name</th>\n",
       "      <th>Segment</th>\n",
       "      <th>City</th>\n",
       "      <th>State</th>\n",
       "      <th>Country</th>\n",
       "      <th>Market</th>\n",
       "      <th>Region</th>\n",
       "      <th>Product ID</th>\n",
       "      <th>Category</th>\n",
       "      <th>Sub-Category</th>\n",
       "      <th>Product Name</th>\n",
       "      <th>Sales</th>\n",
       "      <th>Quantity</th>\n",
       "      <th>Discount</th>\n",
       "      <th>Profit</th>\n",
       "      <th>Shipping Cost</th>\n",
       "      <th>Order Priority</th>\n",
       "    </tr>\n",
       "  </thead>\n",
       "  <tbody>\n",
       "  </tbody>\n",
       "</table>\n",
       "</div>"
      ],
      "text/plain": [
       "Empty DataFrame\n",
       "Columns: [Order ID, Order Date, Ship Date, Ship Mode, Customer ID, Customer Name, Segment, City, State, Country, Market, Region, Product ID, Category, Sub-Category, Product Name, Sales, Quantity, Discount, Profit, Shipping Cost, Order Priority]\n",
       "Index: []"
      ]
     },
     "execution_count": 11,
     "metadata": {},
     "output_type": "execute_result"
    }
   ],
   "source": [
    "duplicate_condition=data.duplicated(keep=False)\n",
    "data[duplicate_condition]"
   ]
  },
  {
   "cell_type": "markdown",
   "metadata": {},
   "source": [
    "###### Observations\n",
    "\n",
    "* There are no duplicates. No two sales transcations(rows) have the same details across the 22 columns."
   ]
  },
  {
   "cell_type": "markdown",
   "metadata": {},
   "source": [
    "### 2) Checking for Duplication: Every Customer id must relate to a single customer name and vice versa.\n",
    "\n",
    "**From the column descriptions:** Customer ID = Unique Order ID for each Customer.**\n",
    "\n",
    "This implies two different customers cant have the same customer id.\n",
    "\n",
    "**Note** Additional Investigation were done to also confirm if **the same customer cant have two different customer ids "
   ]
  },
  {
   "cell_type": "code",
   "execution_count": 13,
   "metadata": {},
   "outputs": [
    {
     "data": {
      "text/plain": [
       "1590"
      ]
     },
     "execution_count": 13,
     "metadata": {},
     "output_type": "execute_result"
    }
   ],
   "source": [
    "#Total number of Customers\n",
    "data[\"Customer ID\"].nunique()"
   ]
  },
  {
   "cell_type": "code",
   "execution_count": 14,
   "metadata": {},
   "outputs": [
    {
     "data": {
      "text/plain": [
       "795"
      ]
     },
     "execution_count": 14,
     "metadata": {},
     "output_type": "execute_result"
    }
   ],
   "source": [
    "data[\"Customer Name\"].nunique()"
   ]
  },
  {
   "cell_type": "code",
   "execution_count": 15,
   "metadata": {},
   "outputs": [
    {
     "data": {
      "text/html": [
       "<div>\n",
       "<style scoped>\n",
       "    .dataframe tbody tr th:only-of-type {\n",
       "        vertical-align: middle;\n",
       "    }\n",
       "\n",
       "    .dataframe tbody tr th {\n",
       "        vertical-align: top;\n",
       "    }\n",
       "\n",
       "    .dataframe thead th {\n",
       "        text-align: right;\n",
       "    }\n",
       "</style>\n",
       "<table border=\"1\" class=\"dataframe\">\n",
       "  <thead>\n",
       "    <tr style=\"text-align: right;\">\n",
       "      <th></th>\n",
       "      <th>Customer ID</th>\n",
       "      <th>Customer Name</th>\n",
       "      <th>Number of items Purchased</th>\n",
       "    </tr>\n",
       "  </thead>\n",
       "  <tbody>\n",
       "    <tr>\n",
       "      <th>8</th>\n",
       "      <td>AB-10015</td>\n",
       "      <td>Aaron Bergman</td>\n",
       "      <td>268</td>\n",
       "    </tr>\n",
       "    <tr>\n",
       "      <th>16</th>\n",
       "      <td>AB-15</td>\n",
       "      <td>Aaron Bergman</td>\n",
       "      <td>33</td>\n",
       "    </tr>\n",
       "    <tr>\n",
       "      <th>54</th>\n",
       "      <td>AH-10030</td>\n",
       "      <td>Aaron Hawkins</td>\n",
       "      <td>191</td>\n",
       "    </tr>\n",
       "    <tr>\n",
       "      <th>65</th>\n",
       "      <td>AH-30</td>\n",
       "      <td>Aaron Hawkins</td>\n",
       "      <td>40</td>\n",
       "    </tr>\n",
       "    <tr>\n",
       "      <th>102</th>\n",
       "      <td>AS-10045</td>\n",
       "      <td>Aaron Smayling</td>\n",
       "      <td>190</td>\n",
       "    </tr>\n",
       "    <tr>\n",
       "      <th>...</th>\n",
       "      <td>...</td>\n",
       "      <td>...</td>\n",
       "      <td>...</td>\n",
       "    </tr>\n",
       "    <tr>\n",
       "      <th>1583</th>\n",
       "      <td>YC-21895</td>\n",
       "      <td>Yoseph Carroll</td>\n",
       "      <td>197</td>\n",
       "    </tr>\n",
       "    <tr>\n",
       "      <th>1586</th>\n",
       "      <td>ZC-11910</td>\n",
       "      <td>Zuschuss Carroll</td>\n",
       "      <td>1</td>\n",
       "    </tr>\n",
       "    <tr>\n",
       "      <th>1587</th>\n",
       "      <td>ZC-21910</td>\n",
       "      <td>Zuschuss Carroll</td>\n",
       "      <td>333</td>\n",
       "    </tr>\n",
       "    <tr>\n",
       "      <th>1588</th>\n",
       "      <td>ZD-11925</td>\n",
       "      <td>Zuschuss Donatelli</td>\n",
       "      <td>55</td>\n",
       "    </tr>\n",
       "    <tr>\n",
       "      <th>1589</th>\n",
       "      <td>ZD-21925</td>\n",
       "      <td>Zuschuss Donatelli</td>\n",
       "      <td>119</td>\n",
       "    </tr>\n",
       "  </tbody>\n",
       "</table>\n",
       "<p>1590 rows × 3 columns</p>\n",
       "</div>"
      ],
      "text/plain": [
       "     Customer ID       Customer Name  Number of items Purchased\n",
       "8       AB-10015       Aaron Bergman                        268\n",
       "16         AB-15       Aaron Bergman                         33\n",
       "54      AH-10030       Aaron Hawkins                        191\n",
       "65         AH-30       Aaron Hawkins                         40\n",
       "102     AS-10045      Aaron Smayling                        190\n",
       "...          ...                 ...                        ...\n",
       "1583    YC-21895      Yoseph Carroll                        197\n",
       "1586    ZC-11910    Zuschuss Carroll                          1\n",
       "1587    ZC-21910    Zuschuss Carroll                        333\n",
       "1588    ZD-11925  Zuschuss Donatelli                         55\n",
       "1589    ZD-21925  Zuschuss Donatelli                        119\n",
       "\n",
       "[1590 rows x 3 columns]"
      ]
     },
     "execution_count": 15,
     "metadata": {},
     "output_type": "execute_result"
    }
   ],
   "source": [
    "customer_grouping=data.groupby([\"Customer ID\",\"Customer Name\"]).agg(\"sum\")[[\"Quantity\"]].reset_index()\n",
    "customer_grouping=customer_grouping.rename({\"Quantity\":\"Number of items Purchased\"},axis=1).sort_values(\"Customer Name\")\n",
    "customer_grouping"
   ]
  },
  {
   "cell_type": "markdown",
   "metadata": {},
   "source": [
    "Checking this fact **two different customers cant have the same customer id.**"
   ]
  },
  {
   "cell_type": "code",
   "execution_count": 16,
   "metadata": {},
   "outputs": [
    {
     "data": {
      "text/html": [
       "<div>\n",
       "<style scoped>\n",
       "    .dataframe tbody tr th:only-of-type {\n",
       "        vertical-align: middle;\n",
       "    }\n",
       "\n",
       "    .dataframe tbody tr th {\n",
       "        vertical-align: top;\n",
       "    }\n",
       "\n",
       "    .dataframe thead th {\n",
       "        text-align: right;\n",
       "    }\n",
       "</style>\n",
       "<table border=\"1\" class=\"dataframe\">\n",
       "  <thead>\n",
       "    <tr style=\"text-align: right;\">\n",
       "      <th></th>\n",
       "      <th>Customer ID</th>\n",
       "      <th>Customer Name</th>\n",
       "      <th>Number of items Purchased</th>\n",
       "    </tr>\n",
       "  </thead>\n",
       "  <tbody>\n",
       "  </tbody>\n",
       "</table>\n",
       "</div>"
      ],
      "text/plain": [
       "Empty DataFrame\n",
       "Columns: [Customer ID, Customer Name, Number of items Purchased]\n",
       "Index: []"
      ]
     },
     "execution_count": 16,
     "metadata": {},
     "output_type": "execute_result"
    }
   ],
   "source": [
    "customer_grouping[customer_grouping.duplicated(\"Customer ID\",keep= False)].sort_values(\"Customer ID\")"
   ]
  },
  {
   "cell_type": "markdown",
   "metadata": {},
   "source": [
    "Checking this fact **the same customer cant have two different customer ids too**"
   ]
  },
  {
   "cell_type": "code",
   "execution_count": 17,
   "metadata": {
    "scrolled": true
   },
   "outputs": [
    {
     "data": {
      "text/html": [
       "<div>\n",
       "<style scoped>\n",
       "    .dataframe tbody tr th:only-of-type {\n",
       "        vertical-align: middle;\n",
       "    }\n",
       "\n",
       "    .dataframe tbody tr th {\n",
       "        vertical-align: top;\n",
       "    }\n",
       "\n",
       "    .dataframe thead th {\n",
       "        text-align: right;\n",
       "    }\n",
       "</style>\n",
       "<table border=\"1\" class=\"dataframe\">\n",
       "  <thead>\n",
       "    <tr style=\"text-align: right;\">\n",
       "      <th></th>\n",
       "      <th>Customer ID</th>\n",
       "      <th>Customer Name</th>\n",
       "      <th>Number of items Purchased</th>\n",
       "    </tr>\n",
       "  </thead>\n",
       "  <tbody>\n",
       "    <tr>\n",
       "      <th>8</th>\n",
       "      <td>AB-10015</td>\n",
       "      <td>Aaron Bergman</td>\n",
       "      <td>268</td>\n",
       "    </tr>\n",
       "    <tr>\n",
       "      <th>16</th>\n",
       "      <td>AB-15</td>\n",
       "      <td>Aaron Bergman</td>\n",
       "      <td>33</td>\n",
       "    </tr>\n",
       "    <tr>\n",
       "      <th>54</th>\n",
       "      <td>AH-10030</td>\n",
       "      <td>Aaron Hawkins</td>\n",
       "      <td>191</td>\n",
       "    </tr>\n",
       "    <tr>\n",
       "      <th>65</th>\n",
       "      <td>AH-30</td>\n",
       "      <td>Aaron Hawkins</td>\n",
       "      <td>40</td>\n",
       "    </tr>\n",
       "    <tr>\n",
       "      <th>102</th>\n",
       "      <td>AS-10045</td>\n",
       "      <td>Aaron Smayling</td>\n",
       "      <td>190</td>\n",
       "    </tr>\n",
       "    <tr>\n",
       "      <th>...</th>\n",
       "      <td>...</td>\n",
       "      <td>...</td>\n",
       "      <td>...</td>\n",
       "    </tr>\n",
       "    <tr>\n",
       "      <th>1583</th>\n",
       "      <td>YC-21895</td>\n",
       "      <td>Yoseph Carroll</td>\n",
       "      <td>197</td>\n",
       "    </tr>\n",
       "    <tr>\n",
       "      <th>1586</th>\n",
       "      <td>ZC-11910</td>\n",
       "      <td>Zuschuss Carroll</td>\n",
       "      <td>1</td>\n",
       "    </tr>\n",
       "    <tr>\n",
       "      <th>1587</th>\n",
       "      <td>ZC-21910</td>\n",
       "      <td>Zuschuss Carroll</td>\n",
       "      <td>333</td>\n",
       "    </tr>\n",
       "    <tr>\n",
       "      <th>1588</th>\n",
       "      <td>ZD-11925</td>\n",
       "      <td>Zuschuss Donatelli</td>\n",
       "      <td>55</td>\n",
       "    </tr>\n",
       "    <tr>\n",
       "      <th>1589</th>\n",
       "      <td>ZD-21925</td>\n",
       "      <td>Zuschuss Donatelli</td>\n",
       "      <td>119</td>\n",
       "    </tr>\n",
       "  </tbody>\n",
       "</table>\n",
       "<p>1590 rows × 3 columns</p>\n",
       "</div>"
      ],
      "text/plain": [
       "     Customer ID       Customer Name  Number of items Purchased\n",
       "8       AB-10015       Aaron Bergman                        268\n",
       "16         AB-15       Aaron Bergman                         33\n",
       "54      AH-10030       Aaron Hawkins                        191\n",
       "65         AH-30       Aaron Hawkins                         40\n",
       "102     AS-10045      Aaron Smayling                        190\n",
       "...          ...                 ...                        ...\n",
       "1583    YC-21895      Yoseph Carroll                        197\n",
       "1586    ZC-11910    Zuschuss Carroll                          1\n",
       "1587    ZC-21910    Zuschuss Carroll                        333\n",
       "1588    ZD-11925  Zuschuss Donatelli                         55\n",
       "1589    ZD-21925  Zuschuss Donatelli                        119\n",
       "\n",
       "[1590 rows x 3 columns]"
      ]
     },
     "execution_count": 17,
     "metadata": {},
     "output_type": "execute_result"
    }
   ],
   "source": [
    "customer_grouping[customer_grouping.duplicated(\"Customer Name\",keep= False)].sort_values(\"Customer Name\")"
   ]
  },
  {
   "cell_type": "code",
   "execution_count": 18,
   "metadata": {},
   "outputs": [
    {
     "data": {
      "text/html": [
       "<div>\n",
       "<style scoped>\n",
       "    .dataframe tbody tr th:only-of-type {\n",
       "        vertical-align: middle;\n",
       "    }\n",
       "\n",
       "    .dataframe tbody tr th {\n",
       "        vertical-align: top;\n",
       "    }\n",
       "\n",
       "    .dataframe thead th {\n",
       "        text-align: right;\n",
       "    }\n",
       "</style>\n",
       "<table border=\"1\" class=\"dataframe\">\n",
       "  <thead>\n",
       "    <tr style=\"text-align: right;\">\n",
       "      <th></th>\n",
       "      <th>Order ID</th>\n",
       "      <th>Order Date</th>\n",
       "      <th>Ship Date</th>\n",
       "      <th>Ship Mode</th>\n",
       "      <th>Customer ID</th>\n",
       "      <th>Customer Name</th>\n",
       "      <th>Segment</th>\n",
       "      <th>City</th>\n",
       "      <th>State</th>\n",
       "      <th>Country</th>\n",
       "      <th>Market</th>\n",
       "      <th>Region</th>\n",
       "      <th>Product ID</th>\n",
       "      <th>Category</th>\n",
       "      <th>Sub-Category</th>\n",
       "      <th>Product Name</th>\n",
       "      <th>Sales</th>\n",
       "      <th>Quantity</th>\n",
       "      <th>Discount</th>\n",
       "      <th>Profit</th>\n",
       "      <th>Shipping Cost</th>\n",
       "      <th>Order Priority</th>\n",
       "    </tr>\n",
       "  </thead>\n",
       "  <tbody>\n",
       "    <tr>\n",
       "      <th>938</th>\n",
       "      <td>MX-2011-127215</td>\n",
       "      <td>2011-03-11</td>\n",
       "      <td>2011-05-11</td>\n",
       "      <td>First Class</td>\n",
       "      <td>AB-10015</td>\n",
       "      <td>Aaron Bergman</td>\n",
       "      <td>Consumer</td>\n",
       "      <td>Guadalajara</td>\n",
       "      <td>Jalisco</td>\n",
       "      <td>Mexico</td>\n",
       "      <td>LATAM</td>\n",
       "      <td>North</td>\n",
       "      <td>TEC-PH-10004242</td>\n",
       "      <td>Technology</td>\n",
       "      <td>Phones</td>\n",
       "      <td>Apple Speaker Phone, VoIP</td>\n",
       "      <td>82.26</td>\n",
       "      <td>1</td>\n",
       "      <td>0.00</td>\n",
       "      <td>18.08</td>\n",
       "      <td>8.35</td>\n",
       "      <td>High</td>\n",
       "    </tr>\n",
       "    <tr>\n",
       "      <th>1048</th>\n",
       "      <td>ES-2011-4146320</td>\n",
       "      <td>2011-04-04</td>\n",
       "      <td>2011-09-04</td>\n",
       "      <td>Standard Class</td>\n",
       "      <td>AB-10015</td>\n",
       "      <td>Aaron Bergman</td>\n",
       "      <td>Consumer</td>\n",
       "      <td>Edinburgh</td>\n",
       "      <td>Scotland</td>\n",
       "      <td>United Kingdom</td>\n",
       "      <td>EU</td>\n",
       "      <td>North</td>\n",
       "      <td>OFF-AR-10001714</td>\n",
       "      <td>Office Supplies</td>\n",
       "      <td>Art</td>\n",
       "      <td>Binney &amp; Smith Markers, Fluorescent</td>\n",
       "      <td>50.70</td>\n",
       "      <td>2</td>\n",
       "      <td>0.00</td>\n",
       "      <td>13.68</td>\n",
       "      <td>10.03</td>\n",
       "      <td>High</td>\n",
       "    </tr>\n",
       "    <tr>\n",
       "      <th>1056</th>\n",
       "      <td>ES-2011-4146320</td>\n",
       "      <td>2011-04-04</td>\n",
       "      <td>2011-09-04</td>\n",
       "      <td>Standard Class</td>\n",
       "      <td>AB-10015</td>\n",
       "      <td>Aaron Bergman</td>\n",
       "      <td>Consumer</td>\n",
       "      <td>Edinburgh</td>\n",
       "      <td>Scotland</td>\n",
       "      <td>United Kingdom</td>\n",
       "      <td>EU</td>\n",
       "      <td>North</td>\n",
       "      <td>OFF-LA-10001607</td>\n",
       "      <td>Office Supplies</td>\n",
       "      <td>Labels</td>\n",
       "      <td>Novimex Shipping Labels, Alphabetical</td>\n",
       "      <td>32.40</td>\n",
       "      <td>3</td>\n",
       "      <td>0.00</td>\n",
       "      <td>16.20</td>\n",
       "      <td>3.09</td>\n",
       "      <td>High</td>\n",
       "    </tr>\n",
       "    <tr>\n",
       "      <th>1809</th>\n",
       "      <td>CA-2011-156587</td>\n",
       "      <td>2011-07-03</td>\n",
       "      <td>2011-08-03</td>\n",
       "      <td>First Class</td>\n",
       "      <td>AB-10015</td>\n",
       "      <td>Aaron Bergman</td>\n",
       "      <td>Consumer</td>\n",
       "      <td>Seattle</td>\n",
       "      <td>Washington</td>\n",
       "      <td>United States</td>\n",
       "      <td>US</td>\n",
       "      <td>West</td>\n",
       "      <td>FUR-CH-10004477</td>\n",
       "      <td>Furniture</td>\n",
       "      <td>Chairs</td>\n",
       "      <td>Global Push Button Manager's Chair, Indigo</td>\n",
       "      <td>48.71</td>\n",
       "      <td>1</td>\n",
       "      <td>0.20</td>\n",
       "      <td>5.48</td>\n",
       "      <td>11.13</td>\n",
       "      <td>High</td>\n",
       "    </tr>\n",
       "    <tr>\n",
       "      <th>1815</th>\n",
       "      <td>CA-2011-156587</td>\n",
       "      <td>2011-07-03</td>\n",
       "      <td>2011-08-03</td>\n",
       "      <td>First Class</td>\n",
       "      <td>AB-10015</td>\n",
       "      <td>Aaron Bergman</td>\n",
       "      <td>Consumer</td>\n",
       "      <td>Seattle</td>\n",
       "      <td>Washington</td>\n",
       "      <td>United States</td>\n",
       "      <td>US</td>\n",
       "      <td>West</td>\n",
       "      <td>OFF-AR-10001427</td>\n",
       "      <td>Office Supplies</td>\n",
       "      <td>Art</td>\n",
       "      <td>Newell 330</td>\n",
       "      <td>17.94</td>\n",
       "      <td>3</td>\n",
       "      <td>0.00</td>\n",
       "      <td>4.66</td>\n",
       "      <td>4.29</td>\n",
       "      <td>High</td>\n",
       "    </tr>\n",
       "    <tr>\n",
       "      <th>1819</th>\n",
       "      <td>CA-2011-156587</td>\n",
       "      <td>2011-07-03</td>\n",
       "      <td>2011-08-03</td>\n",
       "      <td>First Class</td>\n",
       "      <td>AB-10015</td>\n",
       "      <td>Aaron Bergman</td>\n",
       "      <td>Consumer</td>\n",
       "      <td>Seattle</td>\n",
       "      <td>Washington</td>\n",
       "      <td>United States</td>\n",
       "      <td>US</td>\n",
       "      <td>West</td>\n",
       "      <td>OFF-ST-10002344</td>\n",
       "      <td>Office Supplies</td>\n",
       "      <td>Storage</td>\n",
       "      <td>Carina 42\"Hx23 3/4\"W Media Storage Unit</td>\n",
       "      <td>242.94</td>\n",
       "      <td>3</td>\n",
       "      <td>0.00</td>\n",
       "      <td>4.86</td>\n",
       "      <td>1.28</td>\n",
       "      <td>High</td>\n",
       "    </tr>\n",
       "    <tr>\n",
       "      <th>5376</th>\n",
       "      <td>ZA-2012-2040</td>\n",
       "      <td>2012-06-04</td>\n",
       "      <td>2012-12-04</td>\n",
       "      <td>Standard Class</td>\n",
       "      <td>AB-15</td>\n",
       "      <td>Aaron Bergman</td>\n",
       "      <td>Consumer</td>\n",
       "      <td>Mufulira</td>\n",
       "      <td>Copperbelt</td>\n",
       "      <td>Zambia</td>\n",
       "      <td>Africa</td>\n",
       "      <td>Africa</td>\n",
       "      <td>TEC-KON-10004774</td>\n",
       "      <td>Technology</td>\n",
       "      <td>Machines</td>\n",
       "      <td>Konica Inkjet, Durable</td>\n",
       "      <td>1247.40</td>\n",
       "      <td>4</td>\n",
       "      <td>0.00</td>\n",
       "      <td>74.76</td>\n",
       "      <td>81.60</td>\n",
       "      <td>Medium</td>\n",
       "    </tr>\n",
       "    <tr>\n",
       "      <th>5378</th>\n",
       "      <td>ZA-2012-2040</td>\n",
       "      <td>2012-06-04</td>\n",
       "      <td>2012-12-04</td>\n",
       "      <td>Standard Class</td>\n",
       "      <td>AB-15</td>\n",
       "      <td>Aaron Bergman</td>\n",
       "      <td>Consumer</td>\n",
       "      <td>Mufulira</td>\n",
       "      <td>Copperbelt</td>\n",
       "      <td>Zambia</td>\n",
       "      <td>Africa</td>\n",
       "      <td>Africa</td>\n",
       "      <td>TEC-NOK-10000784</td>\n",
       "      <td>Technology</td>\n",
       "      <td>Phones</td>\n",
       "      <td>Nokia Speaker Phone, Cordless</td>\n",
       "      <td>504.00</td>\n",
       "      <td>4</td>\n",
       "      <td>0.00</td>\n",
       "      <td>216.72</td>\n",
       "      <td>43.49</td>\n",
       "      <td>Medium</td>\n",
       "    </tr>\n",
       "    <tr>\n",
       "      <th>5399</th>\n",
       "      <td>ZA-2012-2040</td>\n",
       "      <td>2012-06-04</td>\n",
       "      <td>2012-12-04</td>\n",
       "      <td>Standard Class</td>\n",
       "      <td>AB-15</td>\n",
       "      <td>Aaron Bergman</td>\n",
       "      <td>Consumer</td>\n",
       "      <td>Mufulira</td>\n",
       "      <td>Copperbelt</td>\n",
       "      <td>Zambia</td>\n",
       "      <td>Africa</td>\n",
       "      <td>Africa</td>\n",
       "      <td>OFF-ELD-10004625</td>\n",
       "      <td>Office Supplies</td>\n",
       "      <td>Storage</td>\n",
       "      <td>Eldon Trays, Blue</td>\n",
       "      <td>47.97</td>\n",
       "      <td>1</td>\n",
       "      <td>0.00</td>\n",
       "      <td>8.61</td>\n",
       "      <td>1.99</td>\n",
       "      <td>Medium</td>\n",
       "    </tr>\n",
       "    <tr>\n",
       "      <th>5402</th>\n",
       "      <td>ZA-2012-2040</td>\n",
       "      <td>2012-06-04</td>\n",
       "      <td>2012-12-04</td>\n",
       "      <td>Standard Class</td>\n",
       "      <td>AB-15</td>\n",
       "      <td>Aaron Bergman</td>\n",
       "      <td>Consumer</td>\n",
       "      <td>Mufulira</td>\n",
       "      <td>Copperbelt</td>\n",
       "      <td>Zambia</td>\n",
       "      <td>Africa</td>\n",
       "      <td>Africa</td>\n",
       "      <td>OFF-KRA-10001807</td>\n",
       "      <td>Office Supplies</td>\n",
       "      <td>Envelopes</td>\n",
       "      <td>Kraft Manila Envelope, Security-Tint</td>\n",
       "      <td>28.89</td>\n",
       "      <td>1</td>\n",
       "      <td>0.00</td>\n",
       "      <td>2.31</td>\n",
       "      <td>1.29</td>\n",
       "      <td>Medium</td>\n",
       "    </tr>\n",
       "  </tbody>\n",
       "</table>\n",
       "</div>"
      ],
      "text/plain": [
       "             Order ID Order Date  Ship Date       Ship Mode Customer ID  \\\n",
       "938    MX-2011-127215 2011-03-11 2011-05-11     First Class    AB-10015   \n",
       "1048  ES-2011-4146320 2011-04-04 2011-09-04  Standard Class    AB-10015   \n",
       "1056  ES-2011-4146320 2011-04-04 2011-09-04  Standard Class    AB-10015   \n",
       "1809   CA-2011-156587 2011-07-03 2011-08-03     First Class    AB-10015   \n",
       "1815   CA-2011-156587 2011-07-03 2011-08-03     First Class    AB-10015   \n",
       "1819   CA-2011-156587 2011-07-03 2011-08-03     First Class    AB-10015   \n",
       "5376     ZA-2012-2040 2012-06-04 2012-12-04  Standard Class       AB-15   \n",
       "5378     ZA-2012-2040 2012-06-04 2012-12-04  Standard Class       AB-15   \n",
       "5399     ZA-2012-2040 2012-06-04 2012-12-04  Standard Class       AB-15   \n",
       "5402     ZA-2012-2040 2012-06-04 2012-12-04  Standard Class       AB-15   \n",
       "\n",
       "      Customer Name   Segment         City       State         Country  \\\n",
       "938   Aaron Bergman  Consumer  Guadalajara     Jalisco          Mexico   \n",
       "1048  Aaron Bergman  Consumer    Edinburgh    Scotland  United Kingdom   \n",
       "1056  Aaron Bergman  Consumer    Edinburgh    Scotland  United Kingdom   \n",
       "1809  Aaron Bergman  Consumer      Seattle  Washington   United States   \n",
       "1815  Aaron Bergman  Consumer      Seattle  Washington   United States   \n",
       "1819  Aaron Bergman  Consumer      Seattle  Washington   United States   \n",
       "5376  Aaron Bergman  Consumer     Mufulira  Copperbelt          Zambia   \n",
       "5378  Aaron Bergman  Consumer     Mufulira  Copperbelt          Zambia   \n",
       "5399  Aaron Bergman  Consumer     Mufulira  Copperbelt          Zambia   \n",
       "5402  Aaron Bergman  Consumer     Mufulira  Copperbelt          Zambia   \n",
       "\n",
       "      Market  Region        Product ID         Category Sub-Category  \\\n",
       "938    LATAM   North   TEC-PH-10004242       Technology       Phones   \n",
       "1048      EU   North   OFF-AR-10001714  Office Supplies          Art   \n",
       "1056      EU   North   OFF-LA-10001607  Office Supplies       Labels   \n",
       "1809      US    West   FUR-CH-10004477        Furniture       Chairs   \n",
       "1815      US    West   OFF-AR-10001427  Office Supplies          Art   \n",
       "1819      US    West   OFF-ST-10002344  Office Supplies      Storage   \n",
       "5376  Africa  Africa  TEC-KON-10004774       Technology     Machines   \n",
       "5378  Africa  Africa  TEC-NOK-10000784       Technology       Phones   \n",
       "5399  Africa  Africa  OFF-ELD-10004625  Office Supplies      Storage   \n",
       "5402  Africa  Africa  OFF-KRA-10001807  Office Supplies    Envelopes   \n",
       "\n",
       "                                    Product Name   Sales  Quantity  Discount  \\\n",
       "938                    Apple Speaker Phone, VoIP   82.26         1      0.00   \n",
       "1048         Binney & Smith Markers, Fluorescent   50.70         2      0.00   \n",
       "1056       Novimex Shipping Labels, Alphabetical   32.40         3      0.00   \n",
       "1809  Global Push Button Manager's Chair, Indigo   48.71         1      0.20   \n",
       "1815                                  Newell 330   17.94         3      0.00   \n",
       "1819     Carina 42\"Hx23 3/4\"W Media Storage Unit  242.94         3      0.00   \n",
       "5376                      Konica Inkjet, Durable 1247.40         4      0.00   \n",
       "5378               Nokia Speaker Phone, Cordless  504.00         4      0.00   \n",
       "5399                           Eldon Trays, Blue   47.97         1      0.00   \n",
       "5402        Kraft Manila Envelope, Security-Tint   28.89         1      0.00   \n",
       "\n",
       "      Profit  Shipping Cost Order Priority  \n",
       "938    18.08           8.35           High  \n",
       "1048   13.68          10.03           High  \n",
       "1056   16.20           3.09           High  \n",
       "1809    5.48          11.13           High  \n",
       "1815    4.66           4.29           High  \n",
       "1819    4.86           1.28           High  \n",
       "5376   74.76          81.60         Medium  \n",
       "5378  216.72          43.49         Medium  \n",
       "5399    8.61           1.99         Medium  \n",
       "5402    2.31           1.29         Medium  "
      ]
     },
     "execution_count": 18,
     "metadata": {},
     "output_type": "execute_result"
    }
   ],
   "source": [
    "# Further investigations to verify the rows with the same Customer Name assigned to different ids\n",
    "data[data[\"Customer Name\"]==\"Aaron Bergman\"].head(10)"
   ]
  },
  {
   "cell_type": "markdown",
   "metadata": {},
   "source": [
    "###### Observations\n",
    "\n",
    "* **Customer ID** is unique for each **Customer Name.**\n",
    "\n",
    "* **Different Customer Ids** have been assigned to the same Customer Name. This situation occurs for **795 Customers**\n",
    "\n",
    "\n",
    "* Inferring from the analysis above, two assumptions can be made\n",
    "\n",
    "  1) **Assumption 1**: this issue is caused by **an error in typing the customer ids.** Because the duplicate customers ids for a particular person is very similar.\n",
    "  \n",
    "  eg **ZC 11910** and **ZC 21910** are both assigned to **Zuschuss Carroll**\n",
    "  \n",
    "   In line with assumption 1, it would imply there were **795 Customers**. Assuming the Customer Names are all made too have  a unique Customer id.\n",
    "  \n",
    "  2) **Assumption 2:** this issue occured because **Customers with the same name bought items from the company**. With the understanding that, the source of this data is from Tablaeu and knowing it works with the concept of ids being unique,(Primary Keys).This theory can be accepted too.\n",
    "  \n",
    "     In line with assumption 2, it would imply there were **1590 Customers**. Assuming the Customer Id, as the only source of classifying a Customer.\n"
   ]
  },
  {
   "cell_type": "markdown",
   "metadata": {},
   "source": [
    "##### ASSUMPTION 1 SOLUTION"
   ]
  },
  {
   "cell_type": "markdown",
   "metadata": {},
   "source": [
    "**NOTE: TURN THE CELLS BELOW FROM A MARKDOWN TO A CELL IF YOU WOULD WANT TO WORK WITH ASSUMPTION 1**"
   ]
  },
  {
   "cell_type": "markdown",
   "metadata": {},
   "source": [
    "#Creating the dataframe to assign a unique customer id to each customer affected by the issue indicated in the observation above.\n",
    "unique_customer_ids=customer_grouping[customer_grouping.duplicated(\"Customer Name\",keep= \"last\")].sort_values(\"Customer Name\")\n",
    "unique_customer_ids[\"Customer Name\"].is_unique"
   ]
  },
  {
   "cell_type": "markdown",
   "metadata": {},
   "source": [
    "customer_id=unique_customer_ids[\"Customer ID\"]\n",
    "customer_name=unique_customer_ids[\"Customer Name\"]\n",
    "\n",
    "#confirming the length of the two columns being used to form the dictionary\n",
    "print(f\"The lenght of both columns are the same: {len(customer_id)==len(customer_name)}\")\n",
    "print('\\n')\n",
    "\n",
    "print(\"# Confirming pairing\")\n",
    "print(customer_id.iloc[0])\n",
    "print(customer_name.iloc[0])\n",
    "\n",
    "customer_dic={}\n",
    "for i in range(len(customer_id)):\n",
    "    customer_dic[customer_name.iloc[i]]=customer_id.iloc[i]\n",
    "    \n",
    "print('\\n')\n",
    "print(f\"This is the length of the unique customer dictionary: {len(customer_dic)}\")"
   ]
  },
  {
   "cell_type": "markdown",
   "metadata": {},
   "source": [
    "#testing dictionary replacement\n",
    "for name in customer_grouping[\"Customer Name\"]:\n",
    "    if name in customer_dic:\n",
    "        customer_grouping.loc[customer_grouping[\"Customer Name\"]==name,\"Customer ID\"]=customer_dic[name]"
   ]
  },
  {
   "cell_type": "markdown",
   "metadata": {},
   "source": [
    "customer_grouping.sort_values(\"Customer Name\")"
   ]
  },
  {
   "cell_type": "markdown",
   "metadata": {},
   "source": [
    "#effecting the replacement on the main dataset(this takes a while to run, 5mins)\n",
    "for name in data[\"Customer Name\"]:\n",
    "    if name in customer_dic:\n",
    "        data.loc[data[\"Customer Name\"]==name,\"Customer ID\"]=customer_dic[name]\n",
    "        \n"
   ]
  },
  {
   "cell_type": "markdown",
   "metadata": {},
   "source": [
    "#After replacement in the main data set confirmation\n",
    "j=data.groupby([\"Customer ID\",\"Customer Name\"]).agg(\"count\")[\"Product ID\"].reset_index().rename({\"Product ID\":\"Number of Products Purchased\"},axis=1)\n",
    "j[j.duplicated([\"Customer Name\"])]\n",
    "j.shape"
   ]
  },
  {
   "attachments": {
    "Screenshot%20%282308%29.png": {
     "image/png": "[encoded data removed]"
    }
   },
   "cell_type": "markdown",
   "metadata": {},
   "source": [
    "###### Confirming if customer id replacement was done right.\n",
    "\n",
    "previously the number of itemss purchased was seperated for customers with the same name but different customer ids \n",
    "\n",
    "for example\n",
    "![Screenshot%20%282308%29.png](attachment:Screenshot%20%282308%29.png)"
   ]
  },
  {
   "cell_type": "markdown",
   "metadata": {},
   "source": [
    "j[j[\"Customer Name\"]==\"Aaron Bergman\"]"
   ]
  },
  {
   "cell_type": "markdown",
   "metadata": {},
   "source": [
    "j[\"Customer ID\"].is_unique\n",
    "j[\"Customer Name\"].is_unique"
   ]
  },
  {
   "cell_type": "markdown",
   "metadata": {},
   "source": [
    "data[\"Customer ID\"].nunique()"
   ]
  },
  {
   "cell_type": "markdown",
   "metadata": {},
   "source": [
    "##### ASSUMPTION 2 SOLUTION"
   ]
  },
  {
   "cell_type": "markdown",
   "metadata": {},
   "source": [
    "This implies that if we want to work with assumption 2, the **CUSTOMER ID & CUSTOMER NAME PAIRING only** should be used to identify each customer. Using Customer Name for analysis would produce an error"
   ]
  },
  {
   "cell_type": "markdown",
   "metadata": {},
   "source": [
    "**ASSUMPTION 2** WOULD BE USED FOR THE REST OF THIS ANALYSIS"
   ]
  },
  {
   "cell_type": "markdown",
   "metadata": {},
   "source": [
    "### 3) Checking for duplicate: Different Customers assigned to the same order ids\n",
    "\n",
    "**From the column descriptions:** Order ID = Unique Order ID for each Customer.**\n",
    "\n",
    "A customer can have different order ids beacause he or she placed orders on different days\n",
    "\n",
    "This implies\n",
    "\n",
    "1) Every order id must relate to a single customer.\n",
    "\n",
    "2) two different customers cant have the same order id."
   ]
  },
  {
   "cell_type": "code",
   "execution_count": 19,
   "metadata": {},
   "outputs": [
    {
     "data": {
      "text/html": [
       "<div>\n",
       "<style scoped>\n",
       "    .dataframe tbody tr th:only-of-type {\n",
       "        vertical-align: middle;\n",
       "    }\n",
       "\n",
       "    .dataframe tbody tr th {\n",
       "        vertical-align: top;\n",
       "    }\n",
       "\n",
       "    .dataframe thead th {\n",
       "        text-align: right;\n",
       "    }\n",
       "</style>\n",
       "<table border=\"1\" class=\"dataframe\">\n",
       "  <thead>\n",
       "    <tr style=\"text-align: right;\">\n",
       "      <th></th>\n",
       "      <th>Order ID</th>\n",
       "      <th>Customer ID</th>\n",
       "      <th>Order Date</th>\n",
       "      <th>Quantity</th>\n",
       "    </tr>\n",
       "  </thead>\n",
       "  <tbody>\n",
       "    <tr>\n",
       "      <th>0</th>\n",
       "      <td>AE-2011-9160</td>\n",
       "      <td>PO-8865</td>\n",
       "      <td>2011-03-10</td>\n",
       "      <td>8</td>\n",
       "    </tr>\n",
       "    <tr>\n",
       "      <th>1</th>\n",
       "      <td>AE-2013-1130</td>\n",
       "      <td>EB-4110</td>\n",
       "      <td>2013-10-14</td>\n",
       "      <td>7</td>\n",
       "    </tr>\n",
       "    <tr>\n",
       "      <th>2</th>\n",
       "      <td>AE-2013-1530</td>\n",
       "      <td>MY-7380</td>\n",
       "      <td>2013-12-31</td>\n",
       "      <td>3</td>\n",
       "    </tr>\n",
       "    <tr>\n",
       "      <th>3</th>\n",
       "      <td>AE-2014-2840</td>\n",
       "      <td>PG-8820</td>\n",
       "      <td>2014-05-11</td>\n",
       "      <td>1</td>\n",
       "    </tr>\n",
       "    <tr>\n",
       "      <th>4</th>\n",
       "      <td>AE-2014-3830</td>\n",
       "      <td>GH-4665</td>\n",
       "      <td>2014-12-13</td>\n",
       "      <td>16</td>\n",
       "    </tr>\n",
       "    <tr>\n",
       "      <th>...</th>\n",
       "      <td>...</td>\n",
       "      <td>...</td>\n",
       "      <td>...</td>\n",
       "      <td>...</td>\n",
       "    </tr>\n",
       "    <tr>\n",
       "      <th>25749</th>\n",
       "      <td>ZI-2014-7160</td>\n",
       "      <td>EH-4125</td>\n",
       "      <td>2014-10-30</td>\n",
       "      <td>4</td>\n",
       "    </tr>\n",
       "    <tr>\n",
       "      <th>25750</th>\n",
       "      <td>ZI-2014-7610</td>\n",
       "      <td>BS-1380</td>\n",
       "      <td>2014-03-24</td>\n",
       "      <td>2</td>\n",
       "    </tr>\n",
       "    <tr>\n",
       "      <th>25751</th>\n",
       "      <td>ZI-2014-9540</td>\n",
       "      <td>BT-1395</td>\n",
       "      <td>2014-09-06</td>\n",
       "      <td>2</td>\n",
       "    </tr>\n",
       "    <tr>\n",
       "      <th>25752</th>\n",
       "      <td>ZI-2014-9550</td>\n",
       "      <td>JC-5775</td>\n",
       "      <td>2014-12-18</td>\n",
       "      <td>3</td>\n",
       "    </tr>\n",
       "    <tr>\n",
       "      <th>25753</th>\n",
       "      <td>ZI-2014-9650</td>\n",
       "      <td>HG-4965</td>\n",
       "      <td>2014-05-21</td>\n",
       "      <td>1</td>\n",
       "    </tr>\n",
       "  </tbody>\n",
       "</table>\n",
       "<p>25754 rows × 4 columns</p>\n",
       "</div>"
      ],
      "text/plain": [
       "           Order ID Customer ID Order Date  Quantity\n",
       "0      AE-2011-9160     PO-8865 2011-03-10         8\n",
       "1      AE-2013-1130     EB-4110 2013-10-14         7\n",
       "2      AE-2013-1530     MY-7380 2013-12-31         3\n",
       "3      AE-2014-2840     PG-8820 2014-05-11         1\n",
       "4      AE-2014-3830     GH-4665 2014-12-13        16\n",
       "...             ...         ...        ...       ...\n",
       "25749  ZI-2014-7160     EH-4125 2014-10-30         4\n",
       "25750  ZI-2014-7610     BS-1380 2014-03-24         2\n",
       "25751  ZI-2014-9540     BT-1395 2014-09-06         2\n",
       "25752  ZI-2014-9550     JC-5775 2014-12-18         3\n",
       "25753  ZI-2014-9650     HG-4965 2014-05-21         1\n",
       "\n",
       "[25754 rows x 4 columns]"
      ]
     },
     "execution_count": 19,
     "metadata": {},
     "output_type": "execute_result"
    }
   ],
   "source": [
    "order_id_grouping=data.groupby([\"Order ID\",\"Customer ID\",\"Order Date\"]).agg(\"sum\")[\"Quantity\"].reset_index()\n",
    "order_id_grouping"
   ]
  },
  {
   "cell_type": "code",
   "execution_count": 20,
   "metadata": {},
   "outputs": [
    {
     "data": {
      "text/plain": [
       "False"
      ]
     },
     "execution_count": 20,
     "metadata": {},
     "output_type": "execute_result"
    }
   ],
   "source": [
    "order_id_grouping[\"Order ID\"].is_unique"
   ]
  },
  {
   "cell_type": "code",
   "execution_count": 21,
   "metadata": {},
   "outputs": [
    {
     "data": {
      "text/html": [
       "<div>\n",
       "<style scoped>\n",
       "    .dataframe tbody tr th:only-of-type {\n",
       "        vertical-align: middle;\n",
       "    }\n",
       "\n",
       "    .dataframe tbody tr th {\n",
       "        vertical-align: top;\n",
       "    }\n",
       "\n",
       "    .dataframe thead th {\n",
       "        text-align: right;\n",
       "    }\n",
       "</style>\n",
       "<table border=\"1\" class=\"dataframe\">\n",
       "  <thead>\n",
       "    <tr style=\"text-align: right;\">\n",
       "      <th></th>\n",
       "      <th>Order ID</th>\n",
       "      <th>Customer ID</th>\n",
       "      <th>Order Date</th>\n",
       "      <th>Quantity</th>\n",
       "    </tr>\n",
       "  </thead>\n",
       "  <tbody>\n",
       "    <tr>\n",
       "      <th>31</th>\n",
       "      <td>AG-2012-2220</td>\n",
       "      <td>MV-8190</td>\n",
       "      <td>2012-09-11</td>\n",
       "      <td>1</td>\n",
       "    </tr>\n",
       "    <tr>\n",
       "      <th>32</th>\n",
       "      <td>AG-2012-2220</td>\n",
       "      <td>PO-8865</td>\n",
       "      <td>2012-12-26</td>\n",
       "      <td>7</td>\n",
       "    </tr>\n",
       "    <tr>\n",
       "      <th>2124</th>\n",
       "      <td>CA-2012-9840</td>\n",
       "      <td>LB-6735</td>\n",
       "      <td>2012-06-25</td>\n",
       "      <td>2</td>\n",
       "    </tr>\n",
       "    <tr>\n",
       "      <th>2125</th>\n",
       "      <td>CA-2012-9840</td>\n",
       "      <td>RR-9525</td>\n",
       "      <td>2012-01-11</td>\n",
       "      <td>1</td>\n",
       "    </tr>\n",
       "    <tr>\n",
       "      <th>3236</th>\n",
       "      <td>CA-2013-3830</td>\n",
       "      <td>SC-10770</td>\n",
       "      <td>2013-03-30</td>\n",
       "      <td>1</td>\n",
       "    </tr>\n",
       "    <tr>\n",
       "      <th>...</th>\n",
       "      <td>...</td>\n",
       "      <td>...</td>\n",
       "      <td>...</td>\n",
       "      <td>...</td>\n",
       "    </tr>\n",
       "    <tr>\n",
       "      <th>25590</th>\n",
       "      <td>US-2014-166394</td>\n",
       "      <td>VM-21835</td>\n",
       "      <td>2014-05-09</td>\n",
       "      <td>6</td>\n",
       "    </tr>\n",
       "    <tr>\n",
       "      <th>25640</th>\n",
       "      <td>UZ-2014-6400</td>\n",
       "      <td>IG-5085</td>\n",
       "      <td>2014-11-27</td>\n",
       "      <td>1</td>\n",
       "    </tr>\n",
       "    <tr>\n",
       "      <th>25641</th>\n",
       "      <td>UZ-2014-6400</td>\n",
       "      <td>MS-7770</td>\n",
       "      <td>2014-08-14</td>\n",
       "      <td>10</td>\n",
       "    </tr>\n",
       "    <tr>\n",
       "      <th>25739</th>\n",
       "      <td>ZI-2014-1780</td>\n",
       "      <td>AP-720</td>\n",
       "      <td>2014-09-17</td>\n",
       "      <td>1</td>\n",
       "    </tr>\n",
       "    <tr>\n",
       "      <th>25740</th>\n",
       "      <td>ZI-2014-1780</td>\n",
       "      <td>GR-4560</td>\n",
       "      <td>2014-07-31</td>\n",
       "      <td>1</td>\n",
       "    </tr>\n",
       "  </tbody>\n",
       "</table>\n",
       "<p>1379 rows × 4 columns</p>\n",
       "</div>"
      ],
      "text/plain": [
       "             Order ID Customer ID Order Date  Quantity\n",
       "31       AG-2012-2220     MV-8190 2012-09-11         1\n",
       "32       AG-2012-2220     PO-8865 2012-12-26         7\n",
       "2124     CA-2012-9840     LB-6735 2012-06-25         2\n",
       "2125     CA-2012-9840     RR-9525 2012-01-11         1\n",
       "3236     CA-2013-3830    SC-10770 2013-03-30         1\n",
       "...               ...         ...        ...       ...\n",
       "25590  US-2014-166394    VM-21835 2014-05-09         6\n",
       "25640    UZ-2014-6400     IG-5085 2014-11-27         1\n",
       "25641    UZ-2014-6400     MS-7770 2014-08-14        10\n",
       "25739    ZI-2014-1780      AP-720 2014-09-17         1\n",
       "25740    ZI-2014-1780     GR-4560 2014-07-31         1\n",
       "\n",
       "[1379 rows x 4 columns]"
      ]
     },
     "execution_count": 21,
     "metadata": {},
     "output_type": "execute_result"
    }
   ],
   "source": [
    "order_id_grouping[order_id_grouping.duplicated(\"Order ID\",keep= False)].sort_values(\"Order ID\")"
   ]
  },
  {
   "cell_type": "code",
   "execution_count": 22,
   "metadata": {},
   "outputs": [
    {
     "data": {
      "text/html": [
       "<div>\n",
       "<style scoped>\n",
       "    .dataframe tbody tr th:only-of-type {\n",
       "        vertical-align: middle;\n",
       "    }\n",
       "\n",
       "    .dataframe tbody tr th {\n",
       "        vertical-align: top;\n",
       "    }\n",
       "\n",
       "    .dataframe thead th {\n",
       "        text-align: right;\n",
       "    }\n",
       "</style>\n",
       "<table border=\"1\" class=\"dataframe\">\n",
       "  <thead>\n",
       "    <tr style=\"text-align: right;\">\n",
       "      <th></th>\n",
       "      <th>Order ID</th>\n",
       "      <th>Order Date</th>\n",
       "      <th>Ship Date</th>\n",
       "      <th>Ship Mode</th>\n",
       "      <th>Customer ID</th>\n",
       "      <th>Customer Name</th>\n",
       "      <th>Segment</th>\n",
       "      <th>City</th>\n",
       "      <th>State</th>\n",
       "      <th>Country</th>\n",
       "      <th>Market</th>\n",
       "      <th>Region</th>\n",
       "      <th>Product ID</th>\n",
       "      <th>Category</th>\n",
       "      <th>Sub-Category</th>\n",
       "      <th>Product Name</th>\n",
       "      <th>Sales</th>\n",
       "      <th>Quantity</th>\n",
       "      <th>Discount</th>\n",
       "      <th>Profit</th>\n",
       "      <th>Shipping Cost</th>\n",
       "      <th>Order Priority</th>\n",
       "    </tr>\n",
       "  </thead>\n",
       "  <tbody>\n",
       "    <tr>\n",
       "      <th>6679</th>\n",
       "      <td>AG-2012-2220</td>\n",
       "      <td>2012-09-11</td>\n",
       "      <td>2012-11-13</td>\n",
       "      <td>Standard Class</td>\n",
       "      <td>MV-8190</td>\n",
       "      <td>Mike Vittorini</td>\n",
       "      <td>Consumer</td>\n",
       "      <td>Algiers</td>\n",
       "      <td>Alger</td>\n",
       "      <td>Algeria</td>\n",
       "      <td>Africa</td>\n",
       "      <td>Africa</td>\n",
       "      <td>FUR-HAR-10003548</td>\n",
       "      <td>Furniture</td>\n",
       "      <td>Chairs</td>\n",
       "      <td>Harbour Creations Bag Chairs, Set of Two</td>\n",
       "      <td>63.87</td>\n",
       "      <td>1</td>\n",
       "      <td>0.00</td>\n",
       "      <td>20.43</td>\n",
       "      <td>4.60</td>\n",
       "      <td>Medium</td>\n",
       "    </tr>\n",
       "    <tr>\n",
       "      <th>43686</th>\n",
       "      <td>AG-2012-2220</td>\n",
       "      <td>2012-12-26</td>\n",
       "      <td>2012-12-30</td>\n",
       "      <td>Standard Class</td>\n",
       "      <td>PO-8865</td>\n",
       "      <td>Patrick O'Donnell</td>\n",
       "      <td>Consumer</td>\n",
       "      <td>Guelma</td>\n",
       "      <td>Guelma</td>\n",
       "      <td>Algeria</td>\n",
       "      <td>Africa</td>\n",
       "      <td>Africa</td>\n",
       "      <td>TEC-HEW-10002304</td>\n",
       "      <td>Technology</td>\n",
       "      <td>Copiers</td>\n",
       "      <td>Hewlett Fax Machine, High-Speed</td>\n",
       "      <td>1908.72</td>\n",
       "      <td>6</td>\n",
       "      <td>0.00</td>\n",
       "      <td>190.80</td>\n",
       "      <td>169.70</td>\n",
       "      <td>High</td>\n",
       "    </tr>\n",
       "    <tr>\n",
       "      <th>43717</th>\n",
       "      <td>AG-2012-2220</td>\n",
       "      <td>2012-12-26</td>\n",
       "      <td>2012-12-30</td>\n",
       "      <td>Standard Class</td>\n",
       "      <td>PO-8865</td>\n",
       "      <td>Patrick O'Donnell</td>\n",
       "      <td>Consumer</td>\n",
       "      <td>Guelma</td>\n",
       "      <td>Guelma</td>\n",
       "      <td>Algeria</td>\n",
       "      <td>Africa</td>\n",
       "      <td>Africa</td>\n",
       "      <td>OFF-SAN-10002639</td>\n",
       "      <td>Office Supplies</td>\n",
       "      <td>Art</td>\n",
       "      <td>Sanford Markers, Easy-Erase</td>\n",
       "      <td>23.52</td>\n",
       "      <td>1</td>\n",
       "      <td>0.00</td>\n",
       "      <td>0.45</td>\n",
       "      <td>2.69</td>\n",
       "      <td>High</td>\n",
       "    </tr>\n",
       "  </tbody>\n",
       "</table>\n",
       "</div>"
      ],
      "text/plain": [
       "           Order ID Order Date  Ship Date       Ship Mode Customer ID  \\\n",
       "6679   AG-2012-2220 2012-09-11 2012-11-13  Standard Class     MV-8190   \n",
       "43686  AG-2012-2220 2012-12-26 2012-12-30  Standard Class     PO-8865   \n",
       "43717  AG-2012-2220 2012-12-26 2012-12-30  Standard Class     PO-8865   \n",
       "\n",
       "           Customer Name   Segment     City   State  Country  Market  Region  \\\n",
       "6679      Mike Vittorini  Consumer  Algiers   Alger  Algeria  Africa  Africa   \n",
       "43686  Patrick O'Donnell  Consumer   Guelma  Guelma  Algeria  Africa  Africa   \n",
       "43717  Patrick O'Donnell  Consumer   Guelma  Guelma  Algeria  Africa  Africa   \n",
       "\n",
       "             Product ID         Category Sub-Category  \\\n",
       "6679   FUR-HAR-10003548        Furniture       Chairs   \n",
       "43686  TEC-HEW-10002304       Technology      Copiers   \n",
       "43717  OFF-SAN-10002639  Office Supplies          Art   \n",
       "\n",
       "                                   Product Name   Sales  Quantity  Discount  \\\n",
       "6679   Harbour Creations Bag Chairs, Set of Two   63.87         1      0.00   \n",
       "43686           Hewlett Fax Machine, High-Speed 1908.72         6      0.00   \n",
       "43717               Sanford Markers, Easy-Erase   23.52         1      0.00   \n",
       "\n",
       "       Profit  Shipping Cost Order Priority  \n",
       "6679    20.43           4.60         Medium  \n",
       "43686  190.80         169.70           High  \n",
       "43717    0.45           2.69           High  "
      ]
     },
     "execution_count": 22,
     "metadata": {},
     "output_type": "execute_result"
    }
   ],
   "source": [
    "# confirming the fact that the same Order ID has been assigned to different Customers\n",
    "data[data[\"Order ID\"]==\"AG-2012-2220\"]"
   ]
  },
  {
   "cell_type": "markdown",
   "metadata": {},
   "source": [
    "###### Observations\n",
    "* **The same Order IDs** have been assigned to **different Customers.** Despite purchasing items on different days.This is an indication of a error in the allocation of Order IDs. **719 Order ID have this issue.**\n",
    "\n",
    "\n",
    "* Since this Customers made purcahses dropping them in our analysis wouldnt be advisable.As it would greatly affect our Sales Calculations.\n",
    "\n",
    "\n",
    "\n",
    "\n",
    "\n",
    "* Solution: **To peform all analysis by always pairing Order ID with Customer ID**\n",
    "\n",
    "\n",
    "* As such these rows would all be kept.However the Client would be advised to work on their Order Id allocation"
   ]
  },
  {
   "cell_type": "markdown",
   "metadata": {},
   "source": [
    "##### OTHER FACTS REVEALED FROM REVIEWING THE ORDER ID COLUMN\n",
    "\n",
    "The same customer can have different order ids. An order id just represents an order set. **for example** if an order is placed today by the customer, he or she gets an order id for today. For the next day, the order id is different but for the same customer.\n",
    "\n",
    "**See  below**"
   ]
  },
  {
   "cell_type": "code",
   "execution_count": null,
   "metadata": {
    "scrolled": true
   },
   "outputs": [],
   "source": [
    "order_id_grouping[order_id_grouping.duplicated(\"Customer ID\",keep= False)].sort_values(\"Customer ID\").head(20)"
   ]
  },
  {
   "cell_type": "markdown",
   "metadata": {},
   "source": [
    "### 4) Checking Duplication : Product ID must be unique for each product\n",
    "\n",
    "Criteria:**the same Product Name, same Category, same sub_Category = the same Product**\n",
    "\n",
    "a) The same Products assigned to the different Product id\n",
    "\n",
    "b) The same Product ID assigned to more than one Product\n"
   ]
  },
  {
   "cell_type": "code",
   "execution_count": null,
   "metadata": {},
   "outputs": [],
   "source": [
    "#unique same product for the entire dataset\n",
    "\n",
    "unique_product_entire=data.groupby([\"Product Name\",\"Category\",\"Sub-Category\"]).agg(\"count\")[\"Sales\"].sort_values(ascending=False)\n",
    "unique_product_entire.head(5)"
   ]
  },
  {
   "cell_type": "markdown",
   "metadata": {},
   "source": [
    "Checking this fact: **The same Products assigned to different Product id**"
   ]
  },
  {
   "cell_type": "code",
   "execution_count": null,
   "metadata": {},
   "outputs": [],
   "source": [
    "#prove that same products have been assigned different Product IDs\n",
    "product_grouping=data.groupby([\"Product ID\",\"Product Name\",\"Category\",\"Sub-Category\"]).agg(\"sum\")[\"Quantity\"].reset_index()\n",
    "product_grouping.head(5).sort_values(\"Quantity\",ascending=False)\n"
   ]
  },
  {
   "cell_type": "code",
   "execution_count": null,
   "metadata": {},
   "outputs": [],
   "source": [
    "##highlighting specific same Products with more than one Product ids\n",
    "products=product_grouping.groupby([\"Product Name\",\"Category\",\"Sub-Category\"]).agg(\"count\")[[\"Product ID\"]].sort_values('Product ID',ascending=False)\n",
    "products.rename({\"Product ID\":\"Number of Product IDs\"},axis=1,inplace=True)\n",
    "products"
   ]
  },
  {
   "cell_type": "code",
   "execution_count": null,
   "metadata": {},
   "outputs": [],
   "source": [
    "#Product id to number of products with that amount of product ids\n",
    "products[\"Number of Product IDs\"].value_counts()"
   ]
  },
  {
   "cell_type": "code",
   "execution_count": null,
   "metadata": {
    "scrolled": true
   },
   "outputs": [],
   "source": [
    "#detailed breakdown of same products assigned with different ids\n",
    "repeated_products=product_grouping[product_grouping.duplicated([\"Product Name\",\"Category\",\"Sub-Category\"],keep=False)]\n",
    "repeated_products.sort_values(\"Product Name\")"
   ]
  },
  {
   "cell_type": "markdown",
   "metadata": {},
   "source": [
    "\n",
    "Checking this fact:**The same Product ID assigned to more than one Product**"
   ]
  },
  {
   "cell_type": "code",
   "execution_count": null,
   "metadata": {},
   "outputs": [],
   "source": [
    "product_grouping[product_grouping.duplicated(\"Product ID\",keep=False)].sort_values(\"Product ID\").drop(\"Quantity\",axis=1)"
   ]
  },
  {
   "cell_type": "markdown",
   "metadata": {},
   "source": [
    "###### Observation\n",
    "\n",
    "* Generally the Product ID column is **problematic**. Two products have the same Proucts Ids and the same product has multiple ids\n",
    "\n",
    "\n",
    "* A product would therefore be defined as : **Product =Product Name + Category+ Sub_Category**\n",
    "\n",
    "\n",
    "* Based on the product definition, There are **3797 unique products** in our entire dataset\n",
    "\n",
    "\n",
    "* Out of **3797 unique  products**, **1951 products** dont have unique Product IDs.Thats represent about **51% of our dataset**\n",
    "\n",
    "\n",
    "* To avoid being tempted to use the Product ID in our analysis,it would be dropped.\n"
   ]
  },
  {
   "cell_type": "code",
   "execution_count": null,
   "metadata": {},
   "outputs": [],
   "source": [
    "print(f\"number of columns before dropping {data.shape[1]}\")\n",
    "data.drop([\"Product ID\"],axis=1,inplace=True)\n",
    "print(f\"number of columns after dropping {data.shape[1]}\")"
   ]
  },
  {
   "cell_type": "markdown",
   "metadata": {},
   "source": [
    "# CREATING_NEW_COLUMNS"
   ]
  },
  {
   "cell_type": "markdown",
   "metadata": {},
   "source": [
    "###  1) SALES COLUMNS\n",
    "\n",
    "**The Sales column provided represents the Total Sales with the effect of the discount.**\n",
    "\n",
    "However ,using the discount column, I sought to find **Total Sales without Discount** ,**the Unit Price with Discount** and **the Unit Price without Discount**"
   ]
  },
  {
   "cell_type": "code",
   "execution_count": null,
   "metadata": {},
   "outputs": [],
   "source": [
    "data[\"Discount Percent\"]=round(data[\"Discount\"]*100,2)\n",
    "data[\"unit_price_with_discount\"]=data[\"Sales\"]/data[\"Quantity\"]\n",
    "data[\"actual_unit_price\"]=round((100/(100-data[\"Discount Percent\"]))*data[\"unit_price_with_discount\"],2)\n",
    "data[\"Total_Sales_with_Discount\"]=data[\"Sales\"]\n",
    "data[\"Total_Sales_without_Discount\"]=data[\"Quantity\"]*data[\"actual_unit_price\"]\n",
    "data[\"discounted_amount\"]=data[\"Total_Sales_without_Discount\"]-data[\"Total_Sales_with_Discount\"]"
   ]
  },
  {
   "cell_type": "code",
   "execution_count": null,
   "metadata": {
    "scrolled": true
   },
   "outputs": [],
   "source": [
    "#crosschecking to ensure these two columns are the same before dropping the Sales column\n",
    "(data[\"Sales\"]==data[\"Total_Sales_with_Discount\"]).sum()"
   ]
  },
  {
   "cell_type": "code",
   "execution_count": null,
   "metadata": {},
   "outputs": [],
   "source": [
    "print(f\"there were {data.shape[1]} columns\")\n",
    "data.drop([\"Sales\",\"Discount\"],inplace=True,axis=1)\n",
    "print(f\"there are now {data.shape[1]} columns\")"
   ]
  },
  {
   "cell_type": "markdown",
   "metadata": {},
   "source": [
    "### DATE COLUMNS\n",
    "\n",
    "Extracting Months,Day,Year from Order Date & Calculating the lenght of days between Ship Date and Order Date"
   ]
  },
  {
   "cell_type": "code",
   "execution_count": null,
   "metadata": {},
   "outputs": [],
   "source": [
    "print(f\"there were {data.shape[1]} columns\")\n",
    "\n",
    "data[\"Order Year\"]=data[\"Order Date\"].dt.year\n",
    "data[\"Order Month\"]=data[\"Order Date\"].dt.strftime(\"%B\")\n",
    "data[\"Order Day\"]=data[\"Order Date\"].dt.strftime(\"%A\")\n",
    "data[\"Lenght of Days From Order to Shipping)\"]= (data[\"Ship Date\"]-data[\"Order Date\"]).dt.days\n",
    "\n",
    "\n",
    "print(f\"there are now {data.shape[1]} columns\")\n"
   ]
  },
  {
   "cell_type": "code",
   "execution_count": null,
   "metadata": {},
   "outputs": [],
   "source": [
    "data.head(5)"
   ]
  },
  {
   "cell_type": "markdown",
   "metadata": {},
   "source": [
    "# GENERAL_FACTS _FROM_OUR_DATASET"
   ]
  },
  {
   "cell_type": "code",
   "execution_count": null,
   "metadata": {},
   "outputs": [],
   "source": [
    "#crosschecking the unique members of the categorical columns\n",
    "\n",
    "categorical_columns=[\"Order Year\",\"Ship Mode\",\"Segment\",\"Country\",\"Market\",\"Region\",\"Category\",\"Sub-Category\",\"Order Priority\"]\n",
    "\n",
    "for col in categorical_columns:\n",
    "    print(f'There are \\033[1m {data[col].nunique()}  unique names \\033[0m in the {col} column')\n",
    "    print(data[col].value_counts())\n",
    "    print(\"\\n\")"
   ]
  },
  {
   "cell_type": "code",
   "execution_count": null,
   "metadata": {},
   "outputs": [],
   "source": [
    "#categorical columns only\n",
    "data.describe(include=['O'])"
   ]
  },
  {
   "cell_type": "code",
   "execution_count": null,
   "metadata": {},
   "outputs": [],
   "source": [
    "#numerical columns only\n",
    "data.describe()"
   ]
  },
  {
   "cell_type": "markdown",
   "metadata": {},
   "source": [
    "# CHECKING_DISTRIBUTION_OF_SALES_AND_PROFIT_COLUMNS"
   ]
  },
  {
   "cell_type": "markdown",
   "metadata": {},
   "source": [
    "### SALES COLUMNS\n",
    "\n",
    "**Note:** The actual sales generated is in the Total Sales with Discount Column"
   ]
  },
  {
   "cell_type": "code",
   "execution_count": null,
   "metadata": {},
   "outputs": [],
   "source": [
    "sns.boxplot(x=data[\"Total_Sales_with_Discount\"])\n",
    "plt.show()"
   ]
  },
  {
   "cell_type": "code",
   "execution_count": null,
   "metadata": {},
   "outputs": [],
   "source": [
    "#outlier Sales (Sales generating ghc10,000 and above)\n",
    "revenue_greaterthan_gh10000=data[data[\"Total_Sales_with_Discount\"]>=10000].sort_values(\"Total_Sales_with_Discount\",ascending=True)\n",
    "revenue_greaterthan_gh10000.shape"
   ]
  },
  {
   "cell_type": "code",
   "execution_count": null,
   "metadata": {},
   "outputs": [],
   "source": [
    "#Sales generating  less than GHC1\n",
    "revenue_less_than_ghc1=data[data[\"Total_Sales_with_Discount\"]<=1].sort_values(\"Total_Sales_with_Discount\",ascending=True)\n",
    "revenue_less_than_ghc1.shape"
   ]
  },
  {
   "cell_type": "code",
   "execution_count": null,
   "metadata": {},
   "outputs": [],
   "source": [
    "plt.figure(figsize=(10,10))\n",
    "data.Total_Sales_with_Discount.hist()\n",
    "plt.title(\"DISTRIBUTION OF SALES\")\n",
    "plt.xlabel(\"Sales(Ghc)\")\n",
    "plt.ylabel(\"Frequency\")\n",
    "plt.show()"
   ]
  },
  {
   "cell_type": "code",
   "execution_count": null,
   "metadata": {},
   "outputs": [],
   "source": [
    "(data[\"Total_Sales_with_Discount\"]<2500).sum()"
   ]
  },
  {
   "cell_type": "code",
   "execution_count": null,
   "metadata": {},
   "outputs": [],
   "source": [
    "((data[\"Total_Sales_with_Discount\"]>2500)&(data[\"Total_Sales_with_Discount\"]<5000)).sum()"
   ]
  },
  {
   "cell_type": "code",
   "execution_count": null,
   "metadata": {
    "scrolled": true
   },
   "outputs": [],
   "source": [
    "(data[\"Total_Sales_with_Discount\"]>5000).sum()"
   ]
  },
  {
   "cell_type": "code",
   "execution_count": null,
   "metadata": {},
   "outputs": [],
   "source": [
    "(data[\"Total_Sales_with_Discount\"]>10000).sum()"
   ]
  },
  {
   "cell_type": "markdown",
   "metadata": {},
   "source": [
    "###### Observations of Sales column\n",
    "\n",
    "There are **51290 sales transactions**\n",
    "\n",
    "1) Most of the sales transactions **(50859)** representing **about 99%** of sales transactions generates income below **GHC 2500 and below**. \n",
    "\n",
    "2) Only **5 sales transactions** generated income **above GHC10000**\n",
    "\n",
    "3) Only **44 sales transactions** generated income **above GHC5000**\n",
    "\n",
    "3) There are **8 sales transactions** generated income less than **GHC 1**\n",
    "\n",
    "\n"
   ]
  },
  {
   "cell_type": "markdown",
   "metadata": {},
   "source": [
    "### PROFIT COLUMNS"
   ]
  },
  {
   "cell_type": "code",
   "execution_count": null,
   "metadata": {},
   "outputs": [],
   "source": [
    "sns.boxplot(x=data[\"Profit\"])\n",
    "plt.show()"
   ]
  },
  {
   "cell_type": "code",
   "execution_count": null,
   "metadata": {},
   "outputs": [],
   "source": [
    "#Sales transactions generating losses\n",
    "loss_transactions=data[data[\"Profit\"]<0].sort_values(\"Total_Sales_with_Discount\",ascending=True)\n",
    "loss_transactions.rename({\"Profit\":\"Loss\"},axis=1,inplace=True)\n",
    "loss_transactions.shape"
   ]
  },
  {
   "cell_type": "code",
   "execution_count": null,
   "metadata": {},
   "outputs": [],
   "source": [
    "#Sales generating profit\n",
    "profit_transactions=data[data[\"Profit\"]>0].sort_values(\"Total_Sales_with_Discount\",ascending=True)\n",
    "profit_transactions.shape\n"
   ]
  },
  {
   "cell_type": "code",
   "execution_count": null,
   "metadata": {},
   "outputs": [],
   "source": [
    "#Sales generating niether a profit or loses\n",
    "break_even_transactions=data[data[\"Profit\"]==0].sort_values(\"Total_Sales_with_Discount\",ascending=True)\n",
    "break_even_transactions.shape"
   ]
  },
  {
   "cell_type": "markdown",
   "metadata": {},
   "source": [
    "#### Observations of Profit Columns\n",
    "There are **51290 sales transactions**\n",
    "\n",
    "1)  **38078** sales transactions representing **about 74%** generates profit. \n",
    "\n",
    "2) **668** of the sales transactions representing **about 1%** generates neither a profit or Loss\n",
    "\n",
    "3) **12544** of the sales transactions representing about **25%** generates losses"
   ]
  },
  {
   "cell_type": "markdown",
   "metadata": {},
   "source": [
    "### GENERAL CORRELATION BETWEEN SALES AND PROFIT"
   ]
  },
  {
   "cell_type": "code",
   "execution_count": null,
   "metadata": {
    "scrolled": true
   },
   "outputs": [],
   "source": [
    "#for profit making transactions only\n",
    "sns.relplot(x='Total_Sales_with_Discount',y = 'Profit',data = profit_transactions,col=\"Category\")\n",
    "plt.show()"
   ]
  },
  {
   "cell_type": "code",
   "execution_count": null,
   "metadata": {},
   "outputs": [],
   "source": [
    "#Correlation coefficient for profit transactions\n",
    "profit_transactions[\"Total_Sales_with_Discount\"].corr(profit_transactions[\"Profit\"])"
   ]
  },
  {
   "cell_type": "code",
   "execution_count": null,
   "metadata": {},
   "outputs": [],
   "source": [
    "#sales transaction generating the highest profit overall & also the highest for Technology\n",
    "technology=data.loc[data[\"Category\"]==\"Technology\"]\n",
    "\n",
    "highest_profit=technology[\"Profit\"].max()\n",
    "print(f\" The highest profit generated is {highest_profit} \") # highest overall profit\n",
    "\n",
    "technology[technology[\"Profit\"]==technology[\"Profit\"].max()]"
   ]
  },
  {
   "cell_type": "code",
   "execution_count": null,
   "metadata": {},
   "outputs": [],
   "source": [
    "# sales transaction generating the most profit in the furniture Category\n",
    "furniture=data.loc[data[\"Category\"]==\"Furniture\"]\n",
    "furniture[furniture[\"Profit\"]==furniture[\"Profit\"].max()]"
   ]
  },
  {
   "cell_type": "code",
   "execution_count": null,
   "metadata": {},
   "outputs": [],
   "source": [
    "# sales transaction generating the most profit in the Office Supplies Category\n",
    "office_supplies=data.loc[data[\"Category\"]==\"Office Supplies\"]\n",
    "office_supplies[office_supplies[\"Profit\"]==office_supplies[\"Profit\"].max()]"
   ]
  },
  {
   "cell_type": "markdown",
   "metadata": {},
   "source": [
    "###### Observations\n",
    "\n",
    "* There generally a **very strong positive correlation** between Sales and Profit. Generally, the higher the sales the more likely it yields a higher profit\n",
    "\n",
    "\n",
    "* the highest profit generated was above **GHC 8000** (8399.976 to be exact) and for this sales transaction the product bought was **Canon imageCLASS 2200 Advanced Copierproduct**.it belongs to the **Technology Category**."
   ]
  },
  {
   "cell_type": "code",
   "execution_count": null,
   "metadata": {},
   "outputs": [],
   "source": [
    "#for loss making transactions only\n",
    "sns.relplot(x='Total_Sales_with_Discount',y = 'Loss',data = loss_transactions,col=\"Category\" )\n",
    "plt.show()"
   ]
  },
  {
   "cell_type": "code",
   "execution_count": null,
   "metadata": {},
   "outputs": [],
   "source": [
    "#Correlation coefficient for Loses\n",
    "loss_transactions[\"Total_Sales_with_Discount\"].corr(loss_transactions[\"Loss\"])"
   ]
  },
  {
   "cell_type": "code",
   "execution_count": null,
   "metadata": {},
   "outputs": [],
   "source": [
    "#for negative numbers -1>-2 ,hence th highest loss would be the minimum value \n",
    "loss_transactions[loss_transactions[\"Loss\"]==loss_transactions[\"Loss\"].min()]"
   ]
  },
  {
   "cell_type": "markdown",
   "metadata": {},
   "source": [
    "##### Observation\n",
    "\n",
    "* There's a **moderate negative correlation** between Sales and Loss. That's the highest sales didnt generate the highest loss amount\n",
    "\n",
    "\n",
    "* the highest loss amount generated was above **GHC 6000** (6599.98 to be exact) and for this sales transaction the product bought was **Cubify CubeX 3D Printer Double Head Print**.it belongs to the **Technology Category**."
   ]
  },
  {
   "cell_type": "markdown",
   "metadata": {},
   "source": [
    "# ANALYSIS_OF_DATASET\n",
    "\n",
    "This analysis is to focus solely on sales and maximizing profit.As such analysis questions would be based on the following\n",
    "\n",
    "1) Unit Price per Product Analysis \n",
    "\n",
    "1) Number of Sales Transactions for each year\n",
    "\n",
    "How Sales and Profit/Loss has fared over the various years in the dataset.\n",
    "\n",
    "2) Which month does the company records more sales for each year.\n",
    "\n",
    "3) Investigate the extent of how Discount has affected Sales over the years\n",
    "\n",
    "4) Which Products are generating the most sales (Considering the varied range of selling price from lowest-highest)\n",
    "\n",
    "5) The most and Least selling Products in terms of Quantity\n",
    "\n",
    "6) The most and Least selling Products for each Category\n",
    "\n",
    "7) the product generating the most profit"
   ]
  },
  {
   "cell_type": "markdown",
   "metadata": {},
   "source": [
    "## PRICING"
   ]
  },
  {
   "cell_type": "markdown",
   "metadata": {},
   "source": [
    "### Unit Price Distribution per Product Analysis (Without Discount)"
   ]
  },
  {
   "cell_type": "code",
   "execution_count": null,
   "metadata": {
    "scrolled": true
   },
   "outputs": [],
   "source": [
    "#Finding unit price for each unique product\n",
    "# using the actual unit prices before discount\n",
    "unit_pice_per_product=data.groupby([\"Product Name\",\"Category\",\"Sub-Category\"]).agg(\"count\")[[\"actual_unit_price\"]].sort_values(\"actual_unit_price\",ascending=False)\n",
    "unit_pice_per_product.head(10)"
   ]
  },
  {
   "cell_type": "markdown",
   "metadata": {},
   "source": [
    "###### Observation\n",
    "\n",
    "* the unit price for each a unique product wasnt fixed for a year.it varied"
   ]
  },
  {
   "cell_type": "code",
   "execution_count": null,
   "metadata": {},
   "outputs": [],
   "source": [
    "#investigating and confirming the change of  actual unit price of a product across a year(2012)\n",
    "r=data.loc[(data[\"Product Name\"]==\"Cardinal Index Tab, Clear\") & (data[\"Order Year\"]==2012),[\"actual_unit_price\",'Order Year',\"Order Month\"]]\n",
    "\n",
    "month_code={\"January\":1,\"February\":2,\"March\":3,\"April\":4,\"May\":5,\"June\":6,\"July\":7,\"August\":8,\"September\":9,\"October\":10,\"November\":11,\"December\":12}\n",
    "\n",
    "r[\"Months_Code\"]=r[\"Order Month\"].replace(month_code)\n",
    "r.sort_values(\"Months_Code\",inplace=True)\n",
    "\n",
    "\n",
    "r.plot(\"Order Month\",\"actual_unit_price\")\n",
    "plt.xticks(rotation=60)\n",
    "plt.show()"
   ]
  },
  {
   "cell_type": "code",
   "execution_count": null,
   "metadata": {
    "scrolled": true
   },
   "outputs": [],
   "source": [
    "# acquiring and redifining my grouping for the actual unit_prices for each of the unique prodcuts\n",
    "#Based on the findings above that unit price varies for a product\n",
    "unit_price_per_unique_products=data.groupby([\"Product Name\",\"Category\",\"Sub-Category\",\"actual_unit_price\"]).agg(\"sum\")[[\"Quantity\"]].reset_index().sort_values([\"Product Name\",\"Category\",\"Sub-Category\"])\n",
    "unit_price_per_unique_products.shape\n",
    "\n",
    "#There are **5874 varied unit prices** from 2011-2014"
   ]
  },
  {
   "cell_type": "code",
   "execution_count": null,
   "metadata": {
    "scrolled": true
   },
   "outputs": [],
   "source": [
    "sns.catplot(\"actual_unit_price\",data=unit_price_per_unique_products,kind=\"box\",col=\"Category\")\n",
    "plt.show()"
   ]
  },
  {
   "cell_type": "code",
   "execution_count": null,
   "metadata": {},
   "outputs": [],
   "source": [
    "sns.distplot(unit_price_per_unique_products[\"actual_unit_price\"])\n",
    "plt.show()"
   ]
  },
  {
   "cell_type": "code",
   "execution_count": null,
   "metadata": {},
   "outputs": [],
   "source": [
    "# Note: even though there were 3797 unique products most of these product have varied unit prices. Since unit price for a product varied within and across the various years\n",
    "# Note :There are 5874 varied unit prices from 2011-2014\n",
    "\n",
    "# Number of unit prices below Ghc 100\n",
    "unit_price_per_unique_products[unit_price_per_unique_products[\"actual_unit_price\"]<100].shape"
   ]
  },
  {
   "cell_type": "code",
   "execution_count": null,
   "metadata": {},
   "outputs": [],
   "source": [
    "max_unit_price=unit_price_per_unique_products[\"actual_unit_price\"].max()\n",
    "max_unit_price"
   ]
  },
  {
   "cell_type": "code",
   "execution_count": null,
   "metadata": {},
   "outputs": [],
   "source": [
    "unit_price_per_unique_products[unit_price_per_unique_products[\"actual_unit_price\"]==max_unit_price]"
   ]
  },
  {
   "cell_type": "code",
   "execution_count": null,
   "metadata": {
    "scrolled": true
   },
   "outputs": [],
   "source": [
    "min_unit_price=unit_price_per_unique_products[\"actual_unit_price\"].min()\n",
    "min_unit_price"
   ]
  },
  {
   "cell_type": "code",
   "execution_count": null,
   "metadata": {},
   "outputs": [],
   "source": [
    "unit_price_per_unique_products[unit_price_per_unique_products[\"actual_unit_price\"]==min_unit_price]"
   ]
  },
  {
   "cell_type": "markdown",
   "metadata": {},
   "source": [
    "##### Observations from Unit Price Distribution per Product Analysis (Without Discount)\n",
    "\n",
    "* There are **3797 Unique products** sold from **2011-2014**\n",
    "\n",
    "\n",
    "* There are **5874 unique unit prices** from **2011-2014** and **4272 of these products (approximately 73%)** were already priced **less than Ghc 100** before the discount\n",
    "\n",
    "\n",
    "* Before the discount, for the **3797 unique products sold** the unit prices of items sold ranged from approximately **Ghc0.99 to GHc 7546**\n",
    "\n",
    "\n",
    "* The **highest priced product** was from the **Technology Category,Machine Sub-Category** and the **lowest priced product** from the **Technology Category, Accessories Sub-Category**.\n",
    "\n",
    "\n",
    "* Most of these products were already priced low before the discount was effected\n"
   ]
  },
  {
   "cell_type": "markdown",
   "metadata": {},
   "source": [
    "### Unit Price Distribution per Product Analysis (With Discount)"
   ]
  },
  {
   "cell_type": "code",
   "execution_count": null,
   "metadata": {},
   "outputs": [],
   "source": [
    "#discounted unit prices per each product, as usually it varies for a product within and across the years 2011-2014\n",
    "discounted_unit_price_per_unique_products=data.groupby([\"Product Name\",\"Category\",\"Sub-Category\",\"unit_price_with_discount\",\"Discount Percent\"]).agg(\"sum\")[[\"Quantity\"]].reset_index().sort_values([\"Product Name\",\"Category\",\"Sub-Category\"])\n",
    "discounted_unit_price_per_unique_products.shape"
   ]
  },
  {
   "cell_type": "code",
   "execution_count": null,
   "metadata": {},
   "outputs": [],
   "source": [
    "sns.catplot(\"unit_price_with_discount\",data=discounted_unit_price_per_unique_products,kind=\"box\",col=\"Category\")\n",
    "plt.show()"
   ]
  },
  {
   "cell_type": "code",
   "execution_count": null,
   "metadata": {},
   "outputs": [],
   "source": [
    "sns.distplot(discounted_unit_price_per_unique_products[\"unit_price_with_discount\"])\n",
    "plt.show()"
   ]
  },
  {
   "cell_type": "code",
   "execution_count": null,
   "metadata": {},
   "outputs": [],
   "source": [
    "#unit prices  not discounted\n",
    "discounted_unit_price_per_unique_products[(discounted_unit_price_per_unique_products[\"Discount Percent\"]==0)].shape"
   ]
  },
  {
   "cell_type": "code",
   "execution_count": null,
   "metadata": {
    "scrolled": true
   },
   "outputs": [],
   "source": [
    "#unit prices discounted\n",
    "discounted_unit_price_per_unique_products[(discounted_unit_price_per_unique_products[\"Discount Percent\"]>0)].shape"
   ]
  },
  {
   "cell_type": "code",
   "execution_count": null,
   "metadata": {},
   "outputs": [],
   "source": [
    "# Number of unit prices below Ghc 100 after discount was applied to sales(for entire dataset)\n",
    "discounted_unit_price_per_unique_products[(discounted_unit_price_per_unique_products[\"unit_price_with_discount\"]<100)].shape"
   ]
  },
  {
   "cell_type": "code",
   "execution_count": null,
   "metadata": {},
   "outputs": [],
   "source": [
    "max_discounted_unit_price=discounted_unit_price_per_unique_products[\"unit_price_with_discount\"].max()\n",
    "max_discounted_unit_price"
   ]
  },
  {
   "cell_type": "code",
   "execution_count": null,
   "metadata": {},
   "outputs": [],
   "source": [
    "discounted_unit_price_per_unique_products[discounted_unit_price_per_unique_products[\"unit_price_with_discount\"]==max_discounted_unit_price]"
   ]
  },
  {
   "cell_type": "code",
   "execution_count": null,
   "metadata": {},
   "outputs": [],
   "source": [
    "min_discounted_unit_price=discounted_unit_price_per_unique_products[\"unit_price_with_discount\"].min()\n",
    "min_discounted_unit_price"
   ]
  },
  {
   "cell_type": "code",
   "execution_count": null,
   "metadata": {},
   "outputs": [],
   "source": [
    "discounted_unit_price_per_unique_products[discounted_unit_price_per_unique_products[\"unit_price_with_discount\"]==min_discounted_unit_price]"
   ]
  },
  {
   "cell_type": "markdown",
   "metadata": {},
   "source": [
    "##### Observations from Unit Price Distribution per Product Analysis (With Discount)"
   ]
  },
  {
   "cell_type": "markdown",
   "metadata": {},
   "source": [
    "### DISCOUNT RANGES"
   ]
  },
  {
   "cell_type": "code",
   "execution_count": null,
   "metadata": {},
   "outputs": [],
   "source": [
    "# discount range analysis\n",
    "plt.figure(figsize=(10,7))\n",
    "data[\"Discount Percent\"].value_counts().sort_index().plot(kind=\"bar\")\n",
    "plt.show()\n"
   ]
  },
  {
   "cell_type": "markdown",
   "metadata": {},
   "source": [
    "## SALES"
   ]
  },
  {
   "cell_type": "markdown",
   "metadata": {},
   "source": [
    "### Total Sales Across the Entire 4 years (2011-2014)"
   ]
  },
  {
   "cell_type": "code",
   "execution_count": null,
   "metadata": {},
   "outputs": [],
   "source": [
    "total_sales=round(data[\"Total_Sales_with_Discount\"].sum(),2)\n",
    "print(f\" The total sales or revenue genrated from 2011 to 2014 was {total_sales:,}\")"
   ]
  },
  {
   "cell_type": "code",
   "execution_count": null,
   "metadata": {},
   "outputs": [],
   "source": [
    "#Finding Percentage increase in sales across the various years\n",
    "sales=round(data.groupby(\"Order Year\").sum()[[\"Total_Sales_with_Discount\"]])\n",
    "sales[\"Percentage_Change\"]=round(sales[\"Total_Sales_with_Discount\"].pct_change()*100)\n",
    "sales.style.format(\"{:,}\")"
   ]
  },
  {
   "cell_type": "code",
   "execution_count": null,
   "metadata": {},
   "outputs": [],
   "source": [
    "data.groupby(\"Order Year\").sum()[[\"Total_Sales_with_Discount\"]].plot(kind=\"bar\",title=\"TOTAL SALES PER YEAR\",figsize=(6,5))\n",
    "plt.ticklabel_format(axis=\"y\", style='plain')\n",
    "plt.xticks(rotation=0)\n",
    "plt.show()"
   ]
  },
  {
   "cell_type": "markdown",
   "metadata": {},
   "source": [
    "###### Observations\n",
    "\n",
    "* Genrally Sales increased across the various years(2011-2014)"
   ]
  },
  {
   "cell_type": "markdown",
   "metadata": {},
   "source": [
    "### Comparative Analysis of Total Sales across the 4 years(2011-2014)"
   ]
  },
  {
   "cell_type": "code",
   "execution_count": null,
   "metadata": {},
   "outputs": [],
   "source": [
    "# Breaking dataset by years\n",
    "eleven= data[data[\"Order Year\"]==2011]\n",
    "twelve= data[data[\"Order Year\"]==2012]\n",
    "thirteen= data[data[\"Order Year\"]==2013]\n",
    "fourteen= data[data[\"Order Year\"]==2014]\n",
    "\n",
    "#Grouping by Order month and reseting index\n",
    "tw_eleven=eleven.groupby(\"Order Month\").sum()[[\"Total_Sales_with_Discount\"]].reset_index()\n",
    "tw_twelve=twelve.groupby(\"Order Month\").sum()[[\"Total_Sales_with_Discount\"]].reset_index()\n",
    "tw_thirteen=thirteen.groupby(\"Order Month\").sum()[[\"Total_Sales_with_Discount\"]].reset_index()\n",
    "tw_fourteen=fourteen.groupby(\"Order Month\").sum()[[\"Total_Sales_with_Discount\"]].reset_index()\n",
    "\n",
    "#Month code dictionary has been already created above\n",
    "#month_code={\"January\":1,\"February\":2,\"March\":3,\"April\":4,\"May\":5,\"June\":6,\"July\":7,\"August\":8,\"September\":9,\"October\":10,\"November\":11,\"December\":12}\n",
    "#Creating Month code column to aid in sorting by months (Jan,Feb,etc)\n",
    "tw_eleven[\"month_code\"]=tw_eleven[\"Order Month\"].replace(month_code)\n",
    "tw_twelve[\"month_code\"]=tw_twelve[\"Order Month\"].replace(month_code)\n",
    "tw_thirteen[\"month_code\"]=tw_thirteen[\"Order Month\"].replace(month_code)\n",
    "tw_fourteen[\"month_code\"]=tw_fourteen[\"Order Month\"].replace(month_code)\n",
    "\n",
    "#Sorting based on month code column\n",
    "tw_eleven.sort_values(\"month_code\",inplace=True)\n",
    "tw_twelve.sort_values(\"month_code\",inplace=True)\n",
    "tw_thirteen.sort_values(\"month_code\",inplace=True)\n",
    "tw_fourteen.sort_values(\"month_code\",inplace=True)\n",
    "\n",
    "# plotting line graph\n",
    "\n",
    "fig,ax = plt.subplots(figsize = (12,10))\n",
    "plt.plot(\"Order Month\",\"Total_Sales_with_Discount\",label = '2011',data=tw_eleven)\n",
    "plt.plot(\"Order Month\",\"Total_Sales_with_Discount\",label='2012',data=tw_twelve)\n",
    "plt.plot(\"Order Month\",\"Total_Sales_with_Discount\",label='2013',data=tw_thirteen)\n",
    "plt.plot(\"Order Month\",\"Total_Sales_with_Discount\",label='2014',data=tw_fourteen)\n",
    "plt.xlabel('Months')\n",
    "plt.ylabel('Total Sales')\n",
    "plt.title('COMPARATIVE ANALYSIS OF SALES BY YEARS(2011-2014)')\n",
    "plt.legend()\n",
    "plt.show()"
   ]
  },
  {
   "cell_type": "markdown",
   "metadata": {},
   "source": [
    "###### Observations\n",
    "\n",
    "* Generally sales **increases** across the various years. However within a specific year,the total sales/revenue generated flatuates a lot"
   ]
  },
  {
   "cell_type": "markdown",
   "metadata": {},
   "source": [
    "### Sales Distribution Across the 3 Product Catergories (2011-2014)"
   ]
  },
  {
   "cell_type": "code",
   "execution_count": null,
   "metadata": {},
   "outputs": [],
   "source": [
    "chart=sns.catplot(\"Category\",\"Total_Sales_with_Discount\",data=data,kind=\"bar\",col=\"Order Year\",col_wrap=2,ci=None,estimator=sum,sharex=False)\n",
    "chart.set_xticklabels(rotation=0)\n",
    "plt.ticklabel_format(axis=\"y\", style='plain')\n",
    "chart.fig.subplots_adjust(top=0.9)\n",
    "chart.fig.suptitle(\"TOTAL SALES DISTRIBUTION BY CATEGORY\")\n",
    "plt.show()"
   ]
  },
  {
   "cell_type": "markdown",
   "metadata": {},
   "source": [
    "###### Observations\n",
    "* Generally Technology generates the most sales throughout all the 4 years (2011-2014)"
   ]
  },
  {
   "cell_type": "code",
   "execution_count": null,
   "metadata": {},
   "outputs": [],
   "source": [
    "chart4=sns.catplot('Sub-Category',\"Total_Sales_with_Discount\",data=data,kind=\"bar\",col=\"Category\",sharex=False,margin_titles=True,estimator=sum,ci=None)\n",
    "chart4.set_xticklabels(rotation=90)\n",
    "plt.ticklabel_format(axis=\"y\", style='plain')\n",
    "plt.show()"
   ]
  },
  {
   "cell_type": "markdown",
   "metadata": {},
   "source": [
    "###### OBSERVATIONS\n",
    "\n",
    "* The **Appliances Sub-Category** generates the **most total sales** for Office Supplies\n",
    "\n",
    "\n",
    "* The **Chairs Sub-Category** generates the **most total sales** for Furniture\n",
    "\n",
    "\n",
    "* The **Copiers** Sub-Category** generates the **most sales sales** for Technology\n",
    "\n",
    "**Note: this observation is highly affected by the unit price of the products within the Sub- Catergory**"
   ]
  },
  {
   "cell_type": "markdown",
   "metadata": {},
   "source": [
    "### Sales distribution across the 7 markets(2011-2014)"
   ]
  },
  {
   "cell_type": "code",
   "execution_count": null,
   "metadata": {},
   "outputs": [],
   "source": [
    "chart2=sns.catplot(\"Market\",\"Total_Sales_with_Discount\",data=data,kind=\"bar\",col=\"Order Year\",col_wrap=2,ci=None,estimator=sum,sharex=False,hue=\"Segment\")\n",
    "chart2.set_xticklabels(rotation=0)\n",
    "plt.ticklabel_format(axis=\"y\", style='plain')\n",
    "chart2.fig.subplots_adjust(top=0.9)\n",
    "chart2.fig.suptitle(\"TOTAL SALES DISTRIBUTION BY MARKET & SEGMENT\")\n",
    "plt.show()"
   ]
  },
  {
   "cell_type": "markdown",
   "metadata": {},
   "source": [
    "###### Observations\n",
    "\n",
    "* Generally **APAC** generates the **most sales** with **Canada** having the **least Sales**. **Consumer** related sales tends to genrate the most sales in each Market"
   ]
  },
  {
   "cell_type": "markdown",
   "metadata": {},
   "source": [
    "### Profit, Loss and Breakeven Against Sales"
   ]
  },
  {
   "cell_type": "code",
   "execution_count": null,
   "metadata": {
    "scrolled": true
   },
   "outputs": [],
   "source": [
    "#profit only\n",
    "profits=round(profit_transactions.groupby(\"Order Year\").sum()[[\"Total_Sales_with_Discount\",\"Profit\"]]).sort_values(\"Total_Sales_with_Discount\",ascending=False)\n",
    "profits.style.format(\"{:,}\")"
   ]
  },
  {
   "cell_type": "code",
   "execution_count": null,
   "metadata": {},
   "outputs": [],
   "source": [
    "data.groupby(\"Order Year\").agg(sum)[[\"Total_Sales_with_Discount\",\"Profit\"]].plot(kind=\"bar\")"
   ]
  },
  {
   "cell_type": "code",
   "execution_count": null,
   "metadata": {
    "scrolled": false
   },
   "outputs": [],
   "source": [
    "profits.plot(kind=\"bar\",title=\"PROFIT TRANSACTIONS: Total Sales and Profit (2011-2014)\",figsize=(7,7))\n",
    "plt.xticks(rotation=0)\n",
    "plt.ticklabel_format(axis=\"y\", style='plain')\n",
    "plt.show()"
   ]
  },
  {
   "cell_type": "code",
   "execution_count": null,
   "metadata": {},
   "outputs": [],
   "source": [
    "#loss only\n",
    "loss=round(loss_transactions.groupby(\"Order Year\").sum()[[\"Total_Sales_with_Discount\",\"Loss\"]]).sort_values(\"Total_Sales_with_Discount\",ascending=False)\n",
    "loss.style.format(\"{:,}\")"
   ]
  },
  {
   "cell_type": "code",
   "execution_count": null,
   "metadata": {
    "scrolled": true
   },
   "outputs": [],
   "source": [
    "loss.plot(kind=\"bar\",title=\"LOSS TRANSACTIONS:Total Sales and Profit (2011-2014)\",figsize=(7,7))\n",
    "plt.xticks(rotation=0)\n",
    "plt.ticklabel_format(axis=\"y\", style='plain')\n",
    "plt.show()"
   ]
  },
  {
   "cell_type": "code",
   "execution_count": null,
   "metadata": {},
   "outputs": [],
   "source": [
    "#breakeven  only\n",
    "breakevens=round(break_even_transactions.groupby(\"Order Year\").sum()[[\"Total_Sales_with_Discount\",\"Profit\"]]).sort_values(\"Total_Sales_with_Discount\",ascending=False)\n",
    "breakevens.style.format(\"{:,}\")"
   ]
  },
  {
   "cell_type": "code",
   "execution_count": null,
   "metadata": {},
   "outputs": [],
   "source": [
    "breakevens.plot(kind=\"bar\",title=\"BREAKEVEN TRANSACTIONS:Total Sales and Profit (2011-2014)\",figsize=(7,7))\n",
    "plt.xticks(rotation=0)\n",
    "plt.ticklabel_format(axis=\"y\", style='plain')\n",
    "plt.show()"
   ]
  },
  {
   "cell_type": "markdown",
   "metadata": {},
   "source": [
    "### Profit and Loss for each Market"
   ]
  },
  {
   "cell_type": "code",
   "execution_count": null,
   "metadata": {},
   "outputs": [],
   "source": [
    "#profit per market\n",
    "round(profit_transactions.groupby(\"Market\").agg(sum)[[\"Total_Sales_with_Discount\",\"Profit\"]],2).sort_values(\"Profit\",ascending=False).style.format(\"{:,}\")"
   ]
  },
  {
   "cell_type": "code",
   "execution_count": null,
   "metadata": {},
   "outputs": [],
   "source": [
    "chart5=sns.catplot(\"Market\",\"Profit\",data=profit_transactions,kind=\"bar\",col=\"Order Year\",col_wrap=2,ci=None,estimator=sum,sharex=False)\n",
    "chart5.set_xticklabels(rotation=0)\n",
    "plt.ticklabel_format(axis=\"y\", style='plain')\n",
    "chart5.fig.subplots_adjust(top=0.9)\n",
    "chart5.fig.suptitle(\"PROFIT DISTRIBUTION BY MARKET\")\n",
    "plt.show()"
   ]
  },
  {
   "cell_type": "code",
   "execution_count": null,
   "metadata": {},
   "outputs": [],
   "source": [
    "#Loss per market\n",
    "round(loss_transactions.groupby(\"Market\").agg(sum)[[\"Total_Sales_with_Discount\",\"Loss\"]],2).sort_values(\"Loss\",ascending=True).style.format(\"{:,}\")"
   ]
  },
  {
   "cell_type": "code",
   "execution_count": null,
   "metadata": {},
   "outputs": [],
   "source": [
    "chart6=sns.catplot(\"Market\",\"Loss\",data=loss_transactions,kind=\"bar\",col=\"Order Year\",col_wrap=2,ci=None,estimator=sum,sharex=False)\n",
    "chart6.set_xticklabels(rotation=0)\n",
    "plt.ticklabel_format(axis=\"y\", style='plain')\n",
    "chart6.fig.subplots_adjust(top=0.9)\n",
    "chart6.fig.suptitle(\"LOSS DISTRIBUTION BY MARKET \")\n",
    "plt.show()"
   ]
  },
  {
   "cell_type": "code",
   "execution_count": null,
   "metadata": {},
   "outputs": [],
   "source": [
    "sns.relplot(\"Order Month\",\"Profit\",data=data,hue=\"Category\",kind=\"line\")"
   ]
  },
  {
   "cell_type": "markdown",
   "metadata": {},
   "source": [
    "### UNDERSTANDING GENERAL DISTRIBUTION OF SALES TRANSACTIONS"
   ]
  },
  {
   "cell_type": "code",
   "execution_count": null,
   "metadata": {},
   "outputs": [],
   "source": [
    "#Distribution of sales  transactions across market\n",
    "plt.figure(figsize=(6,5))\n",
    "sns.countplot(x='Market',data=data)\n",
    "plt.show()"
   ]
  },
  {
   "cell_type": "markdown",
   "metadata": {},
   "source": [
    "###### Observation\n",
    "\n",
    "* APAC market generates the most sales attraction.Canada generates the least and is very small. Futher Invetigation will be conducted to investigate Canada extremely low level of sales attraction"
   ]
  },
  {
   "cell_type": "code",
   "execution_count": null,
   "metadata": {},
   "outputs": [],
   "source": [
    "# Distribution of sales transactions across Segment\n",
    "plt.figure(figsize=(6,5))\n",
    "sns.countplot(x='Segment',data=data)\n",
    "plt.show()"
   ]
  },
  {
   "cell_type": "markdown",
   "metadata": {},
   "source": [
    "###### OBSERVATIONS\n",
    "\n",
    "* The **Consumer Segment** generates the **most sales attraction**"
   ]
  },
  {
   "cell_type": "code",
   "execution_count": null,
   "metadata": {},
   "outputs": [],
   "source": [
    "# Distribution of Sales transcations Across Market and Category\n",
    "chart3=sns.catplot('Category',data=data,kind=\"count\",col=\"Market\",sharex=False,col_wrap=3,margin_titles=True)\n",
    "chart3.set_xticklabels(rotation=0)\n",
    "plt.show()"
   ]
  },
  {
   "cell_type": "code",
   "execution_count": null,
   "metadata": {},
   "outputs": [],
   "source": [
    "# Distribution of Sales transcations Across Category and Sub- Catergory\n",
    "chart3=sns.catplot('Sub-Category',data=data,kind=\"count\",col=\"Category\",sharex=False,margin_titles=True)\n",
    "chart3.set_xticklabels(rotation=90)\n",
    "plt.show()"
   ]
  },
  {
   "cell_type": "markdown",
   "metadata": {},
   "source": [
    "###### Observations\n",
    "\n",
    "* The **Binders Sub-Category** generates the **most sales attraction** for Office Supplies\n",
    "\n",
    "\n",
    "* The **Chairss Sub-Category** generates the **most sales attraction** for Furniture\n",
    "\n",
    "\n",
    "* The **Phones Sub-Category** generates the **most sales attraction** for Technology\n"
   ]
  },
  {
   "cell_type": "markdown",
   "metadata": {},
   "source": [
    "### OVERALL TOP 10 MOST ORDERED PRODUCTS (2011-2014)"
   ]
  },
  {
   "cell_type": "code",
   "execution_count": null,
   "metadata": {},
   "outputs": [],
   "source": [
    "ordered_products=data.groupby([\"Product Name\",\"Category\",\"Sub-Category\"]).agg(\"sum\")[[\"Quantity\",\"Total_Sales_with_Discount\"]].sort_values(\"Quantity\",ascending=False)\n",
    "ordered_products.head(10)\n"
   ]
  },
  {
   "cell_type": "markdown",
   "metadata": {},
   "source": [
    "### OVERALL TOP 10 LEAST ORDERED PRODUCTS (2011-2014)\n"
   ]
  },
  {
   "cell_type": "code",
   "execution_count": null,
   "metadata": {},
   "outputs": [],
   "source": [
    "ordered_products.tail(10)"
   ]
  },
  {
   "cell_type": "markdown",
   "metadata": {},
   "source": [
    "### MOST ORDERED & LEAST ORDERED PRODUCT BY CATEGORY (2011-2014)"
   ]
  },
  {
   "cell_type": "markdown",
   "metadata": {},
   "source": [
    "###### Furniture"
   ]
  },
  {
   "cell_type": "code",
   "execution_count": null,
   "metadata": {},
   "outputs": [],
   "source": [
    "ordered=ordered_products.reset_index()\n",
    "funiture_orders=ordered.loc[ordered[\"Category\"]==\"Furniture\"].sort_values(\"Quantity\",ascending=False)\n",
    "funiture_orders.head(10)"
   ]
  },
  {
   "cell_type": "code",
   "execution_count": null,
   "metadata": {},
   "outputs": [],
   "source": [
    "funiture_orders.tail(10)"
   ]
  },
  {
   "cell_type": "markdown",
   "metadata": {},
   "source": [
    "###### Office Supplies"
   ]
  },
  {
   "cell_type": "code",
   "execution_count": null,
   "metadata": {},
   "outputs": [],
   "source": [
    "office_orders=ordered.loc[ordered[\"Category\"]==\"Office Supplies\"].sort_values(\"Quantity\",ascending=False)\n",
    "office_orders.head(10)"
   ]
  },
  {
   "cell_type": "code",
   "execution_count": null,
   "metadata": {},
   "outputs": [],
   "source": [
    "office_orders.tail(10)"
   ]
  },
  {
   "cell_type": "markdown",
   "metadata": {},
   "source": [
    "###### Technology"
   ]
  },
  {
   "cell_type": "code",
   "execution_count": null,
   "metadata": {},
   "outputs": [],
   "source": [
    "technology_orders=ordered.loc[ordered[\"Category\"]==\"Technology\"].sort_values(\"Quantity\",ascending=False)\n",
    "technology_orders.head(10)"
   ]
  },
  {
   "cell_type": "code",
   "execution_count": null,
   "metadata": {},
   "outputs": [],
   "source": [
    "technology_orders.tail(10)"
   ]
  },
  {
   "cell_type": "markdown",
   "metadata": {},
   "source": [
    "## SHIPPING COST EFFECT ON SALES AND PROFIT"
   ]
  },
  {
   "cell_type": "code",
   "execution_count": null,
   "metadata": {},
   "outputs": [],
   "source": [
    "#Effect on Sales\n",
    "sns.relplot(x='Total_Sales_with_Discount',y = 'Shipping Cost',data = data,col=\"Category\" )\n",
    "plt.show()"
   ]
  },
  {
   "cell_type": "code",
   "execution_count": null,
   "metadata": {},
   "outputs": [],
   "source": [
    "#Correlation coefficient\n",
    "data[\"Total_Sales_with_Discount\"].corr(data[\"Shipping Cost\"])"
   ]
  },
  {
   "cell_type": "markdown",
   "metadata": {},
   "source": [
    "###### Observations\n",
    "\n",
    "* There generally a **strong positive correlation** between Total Sales and Shipping Cost. An indication that Shipping Cost may be having an effect on Sales"
   ]
  },
  {
   "cell_type": "code",
   "execution_count": null,
   "metadata": {},
   "outputs": [],
   "source": [
    "#Effect on Profit\n",
    "sns.relplot(x='Profit',y = 'Shipping Cost',data = data,col=\"Category\" )\n",
    "plt.show()"
   ]
  },
  {
   "cell_type": "code",
   "execution_count": null,
   "metadata": {},
   "outputs": [],
   "source": [
    "#Correlation coefficient\n",
    "data[\"Profit\"].corr(data[\"Shipping Cost\"])"
   ]
  },
  {
   "cell_type": "markdown",
   "metadata": {},
   "source": [
    "###### Observations\n",
    "\n",
    "* There generally a **weak positive correlation** between Profit and Shipping Cost. An indication that Shipping Cost has no effect  on Profit"
   ]
  },
  {
   "cell_type": "markdown",
   "metadata": {},
   "source": [
    "## CUSTOMER ANALYSIS"
   ]
  },
  {
   "cell_type": "markdown",
   "metadata": {},
   "source": [
    "### LIST OF TOP 10 CUSTOMERS WITH THE MOST ORDERS"
   ]
  },
  {
   "cell_type": "code",
   "execution_count": null,
   "metadata": {},
   "outputs": [],
   "source": [
    "data.groupby([\"Customer ID\",\"Customer Name\"]).agg(\"sum\")[[\"Quantity\",\"Total_Sales_with_Discount\"]].sort_values(\"Quantity\",ascending=False).head(10)"
   ]
  },
  {
   "cell_type": "markdown",
   "metadata": {},
   "source": [
    "### LIST OF TOP 10 CUSTOMERS WITH THE LEAST ORDERS"
   ]
  },
  {
   "cell_type": "code",
   "execution_count": null,
   "metadata": {},
   "outputs": [],
   "source": [
    "data.groupby([\"Customer ID\",\"Customer Name\"]).agg(\"sum\")[[\"Quantity\",\"Total_Sales_with_Discount\"]].sort_values(\"Quantity\",ascending=False).tail(10)"
   ]
  },
  {
   "cell_type": "markdown",
   "metadata": {},
   "source": [
    "[Back to Table of Content](#TABLE_OF_CONTENT)"
   ]
  }
 ],
 "metadata": {
  "kernelspec": {
   "display_name": "Python 3",
   "language": "python",
   "name": "python3"
  },
  "language_info": {
   "codemirror_mode": {
    "name": "ipython",
    "version": 3
   },
   "file_extension": ".py",
   "mimetype": "text/x-python",
   "name": "python",
   "nbconvert_exporter": "python",
   "pygments_lexer": "ipython3",
   "version": "3.8.3"
  }
 },
 "nbformat": 4,
 "nbformat_minor": 4
}
